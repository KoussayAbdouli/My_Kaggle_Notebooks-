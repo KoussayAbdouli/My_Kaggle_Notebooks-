{
 "cells": [
  {
   "cell_type": "code",
   "execution_count": 1,
   "metadata": {},
   "outputs": [],
   "source": [
    "import pandas as pd\n",
    "import numpy as np\n",
    "import matplotlib.pyplot as plt\n",
    "import seaborn as sns"
   ]
  },
  {
   "cell_type": "markdown",
   "metadata": {},
   "source": [
    "<h2 style=\"color:red\">STEP 1 : Understand DATA</h2>"
   ]
  },
  {
   "cell_type": "code",
   "execution_count": 2,
   "metadata": {},
   "outputs": [
    {
     "data": {
      "text/html": [
       "<div>\n",
       "<style scoped>\n",
       "    .dataframe tbody tr th:only-of-type {\n",
       "        vertical-align: middle;\n",
       "    }\n",
       "\n",
       "    .dataframe tbody tr th {\n",
       "        vertical-align: top;\n",
       "    }\n",
       "\n",
       "    .dataframe thead th {\n",
       "        text-align: right;\n",
       "    }\n",
       "</style>\n",
       "<table border=\"1\" class=\"dataframe\">\n",
       "  <thead>\n",
       "    <tr style=\"text-align: right;\">\n",
       "      <th></th>\n",
       "      <th>Brand</th>\n",
       "      <th>Price</th>\n",
       "      <th>Year</th>\n",
       "      <th>Kilometrage</th>\n",
       "      <th>Energie</th>\n",
       "      <th>Boite</th>\n",
       "    </tr>\n",
       "  </thead>\n",
       "  <tbody>\n",
       "    <tr>\n",
       "      <th>0</th>\n",
       "      <td>Mercedes-Benz GLA</td>\n",
       "      <td>138500</td>\n",
       "      <td>2012</td>\n",
       "      <td>105000</td>\n",
       "      <td>Essence</td>\n",
       "      <td>Manuelle</td>\n",
       "    </tr>\n",
       "    <tr>\n",
       "      <th>1</th>\n",
       "      <td>Mercedes-Benz Classe E</td>\n",
       "      <td>227000</td>\n",
       "      <td>2015</td>\n",
       "      <td>320000</td>\n",
       "      <td>Essence</td>\n",
       "      <td>Automatique</td>\n",
       "    </tr>\n",
       "    <tr>\n",
       "      <th>2</th>\n",
       "      <td>BMW Série 5</td>\n",
       "      <td>260000</td>\n",
       "      <td>2016</td>\n",
       "      <td>78000</td>\n",
       "      <td>Essence</td>\n",
       "      <td>Manuelle</td>\n",
       "    </tr>\n",
       "    <tr>\n",
       "      <th>3</th>\n",
       "      <td>BMW Série 3</td>\n",
       "      <td>126000</td>\n",
       "      <td>2017</td>\n",
       "      <td>7000</td>\n",
       "      <td>Essence</td>\n",
       "      <td>Manuelle</td>\n",
       "    </tr>\n",
       "    <tr>\n",
       "      <th>4</th>\n",
       "      <td>BMW Série 5</td>\n",
       "      <td>117500</td>\n",
       "      <td>2012</td>\n",
       "      <td>4400</td>\n",
       "      <td>Essence</td>\n",
       "      <td>Manuelle</td>\n",
       "    </tr>\n",
       "    <tr>\n",
       "      <th>5</th>\n",
       "      <td>Porsche Cayenne</td>\n",
       "      <td>N.C</td>\n",
       "      <td>2015</td>\n",
       "      <td>83500</td>\n",
       "      <td>Essence</td>\n",
       "      <td>Manuelle</td>\n",
       "    </tr>\n",
       "  </tbody>\n",
       "</table>\n",
       "</div>"
      ],
      "text/plain": [
       "                    Brand   Price  Year  Kilometrage  Energie        Boite\n",
       "0       Mercedes-Benz GLA  138500  2012       105000  Essence     Manuelle\n",
       "1  Mercedes-Benz Classe E  227000  2015       320000  Essence  Automatique\n",
       "2             BMW Série 5  260000  2016        78000  Essence     Manuelle\n",
       "3             BMW Série 3  126000  2017         7000  Essence     Manuelle\n",
       "4             BMW Série 5  117500  2012         4400  Essence     Manuelle\n",
       "5         Porsche Cayenne     N.C  2015        83500  Essence     Manuelle"
      ]
     },
     "execution_count": 2,
     "metadata": {},
     "output_type": "execute_result"
    }
   ],
   "source": [
    "df = pd.read_excel(\"SecondToLast.xlsx\")\n",
    "df.head(6)"
   ]
  },
  {
   "cell_type": "code",
   "execution_count": 3,
   "metadata": {},
   "outputs": [
    {
     "name": "stdout",
     "output_type": "stream",
     "text": [
      "The shape of dataset is (2604, 6)\n"
     ]
    }
   ],
   "source": [
    "print(\"The shape of dataset is {}\".format(df.shape))"
   ]
  },
  {
   "cell_type": "code",
   "execution_count": 4,
   "metadata": {},
   "outputs": [],
   "source": [
    "df1 = df.drop_duplicates()"
   ]
  },
  {
   "cell_type": "code",
   "execution_count": 5,
   "metadata": {},
   "outputs": [
    {
     "name": "stdout",
     "output_type": "stream",
     "text": [
      "The shape of dataset is (2583, 6)\n"
     ]
    }
   ],
   "source": [
    "print(\"The shape of dataset is {}\".format(df1.shape))"
   ]
  },
  {
   "cell_type": "code",
   "execution_count": 6,
   "metadata": {},
   "outputs": [
    {
     "data": {
      "text/plain": [
       "Brand          0\n",
       "Price          0\n",
       "Year           0\n",
       "Kilometrage    0\n",
       "Energie        0\n",
       "Boite          1\n",
       "dtype: int64"
      ]
     },
     "execution_count": 6,
     "metadata": {},
     "output_type": "execute_result"
    }
   ],
   "source": [
    "df1.isnull().sum()"
   ]
  },
  {
   "cell_type": "code",
   "execution_count": 7,
   "metadata": {},
   "outputs": [
    {
     "name": "stderr",
     "output_type": "stream",
     "text": [
      "C:\\Users\\KOUSSAY\\AppData\\Roaming\\Python\\Python37\\site-packages\\ipykernel_launcher.py:1: SettingWithCopyWarning: \n",
      "A value is trying to be set on a copy of a slice from a DataFrame\n",
      "\n",
      "See the caveats in the documentation: https://pandas.pydata.org/pandas-docs/stable/user_guide/indexing.html#returning-a-view-versus-a-copy\n",
      "  \"\"\"Entry point for launching an IPython kernel.\n"
     ]
    },
    {
     "data": {
      "text/plain": [
       "(2582, 6)"
      ]
     },
     "execution_count": 7,
     "metadata": {},
     "output_type": "execute_result"
    }
   ],
   "source": [
    "df1.dropna(axis =\"rows\" , inplace = True)\n",
    "df1.shape"
   ]
  },
  {
   "cell_type": "code",
   "execution_count": 8,
   "metadata": {},
   "outputs": [
    {
     "name": "stdout",
     "output_type": "stream",
     "text": [
      "<class 'pandas.core.frame.DataFrame'>\n",
      "Int64Index: 2582 entries, 0 to 2602\n",
      "Data columns (total 6 columns):\n",
      " #   Column       Non-Null Count  Dtype \n",
      "---  ------       --------------  ----- \n",
      " 0   Brand        2582 non-null   object\n",
      " 1   Price        2582 non-null   object\n",
      " 2   Year         2582 non-null   int64 \n",
      " 3   Kilometrage  2582 non-null   int64 \n",
      " 4   Energie      2582 non-null   object\n",
      " 5   Boite        2582 non-null   object\n",
      "dtypes: int64(2), object(4)\n",
      "memory usage: 141.2+ KB\n"
     ]
    }
   ],
   "source": [
    "df1.info()"
   ]
  },
  {
   "cell_type": "code",
   "execution_count": 9,
   "metadata": {},
   "outputs": [],
   "source": [
    "## Price : Type Object must change to float type \n"
   ]
  },
  {
   "cell_type": "code",
   "execution_count": 10,
   "metadata": {},
   "outputs": [],
   "source": [
    "drop_condition = df1[df1.Price == \"N.C\"].index"
   ]
  },
  {
   "cell_type": "code",
   "execution_count": 11,
   "metadata": {},
   "outputs": [],
   "source": [
    "df2 = df1.drop(drop_condition , axis = \"rows\")"
   ]
  },
  {
   "cell_type": "code",
   "execution_count": 12,
   "metadata": {},
   "outputs": [
    {
     "name": "stdout",
     "output_type": "stream",
     "text": [
      "Shape of d2 is (2383, 6)\n"
     ]
    }
   ],
   "source": [
    "print (\"Shape of d2 is {}\".format(df2.shape))"
   ]
  },
  {
   "cell_type": "code",
   "execution_count": 13,
   "metadata": {},
   "outputs": [],
   "source": [
    "df2.Price = pd.to_numeric(df2.Price)"
   ]
  },
  {
   "cell_type": "markdown",
   "metadata": {},
   "source": [
    "<h2 style=\"color:red\">STEP 2 : Exploratory Data Analysis</h2>"
   ]
  },
  {
   "cell_type": "code",
   "execution_count": 14,
   "metadata": {},
   "outputs": [
    {
     "data": {
      "text/html": [
       "<div>\n",
       "<style scoped>\n",
       "    .dataframe tbody tr th:only-of-type {\n",
       "        vertical-align: middle;\n",
       "    }\n",
       "\n",
       "    .dataframe tbody tr th {\n",
       "        vertical-align: top;\n",
       "    }\n",
       "\n",
       "    .dataframe thead th {\n",
       "        text-align: right;\n",
       "    }\n",
       "</style>\n",
       "<table border=\"1\" class=\"dataframe\">\n",
       "  <thead>\n",
       "    <tr style=\"text-align: right;\">\n",
       "      <th></th>\n",
       "      <th>Brand</th>\n",
       "      <th>Price</th>\n",
       "      <th>Year</th>\n",
       "      <th>Kilometrage</th>\n",
       "      <th>Energie</th>\n",
       "      <th>Boite</th>\n",
       "    </tr>\n",
       "  </thead>\n",
       "  <tbody>\n",
       "    <tr>\n",
       "      <th>0</th>\n",
       "      <td>Mercedes-Benz GLA</td>\n",
       "      <td>138500</td>\n",
       "      <td>2012</td>\n",
       "      <td>105000</td>\n",
       "      <td>Essence</td>\n",
       "      <td>Manuelle</td>\n",
       "    </tr>\n",
       "    <tr>\n",
       "      <th>1</th>\n",
       "      <td>Mercedes-Benz Classe E</td>\n",
       "      <td>227000</td>\n",
       "      <td>2015</td>\n",
       "      <td>320000</td>\n",
       "      <td>Essence</td>\n",
       "      <td>Automatique</td>\n",
       "    </tr>\n",
       "    <tr>\n",
       "      <th>2</th>\n",
       "      <td>BMW Série 5</td>\n",
       "      <td>260000</td>\n",
       "      <td>2016</td>\n",
       "      <td>78000</td>\n",
       "      <td>Essence</td>\n",
       "      <td>Manuelle</td>\n",
       "    </tr>\n",
       "    <tr>\n",
       "      <th>3</th>\n",
       "      <td>BMW Série 3</td>\n",
       "      <td>126000</td>\n",
       "      <td>2017</td>\n",
       "      <td>7000</td>\n",
       "      <td>Essence</td>\n",
       "      <td>Manuelle</td>\n",
       "    </tr>\n",
       "    <tr>\n",
       "      <th>4</th>\n",
       "      <td>BMW Série 5</td>\n",
       "      <td>117500</td>\n",
       "      <td>2012</td>\n",
       "      <td>4400</td>\n",
       "      <td>Essence</td>\n",
       "      <td>Manuelle</td>\n",
       "    </tr>\n",
       "  </tbody>\n",
       "</table>\n",
       "</div>"
      ],
      "text/plain": [
       "                    Brand   Price  Year  Kilometrage  Energie        Boite\n",
       "0       Mercedes-Benz GLA  138500  2012       105000  Essence     Manuelle\n",
       "1  Mercedes-Benz Classe E  227000  2015       320000  Essence  Automatique\n",
       "2             BMW Série 5  260000  2016        78000  Essence     Manuelle\n",
       "3             BMW Série 3  126000  2017         7000  Essence     Manuelle\n",
       "4             BMW Série 5  117500  2012         4400  Essence     Manuelle"
      ]
     },
     "execution_count": 14,
     "metadata": {},
     "output_type": "execute_result"
    }
   ],
   "source": [
    "df2.head()"
   ]
  },
  {
   "cell_type": "code",
   "execution_count": 15,
   "metadata": {},
   "outputs": [],
   "source": [
    "def count_plot(feature1,feature2,feature3,data):\n",
    "    plt.figure(figsize=(12,8))\n",
    "    plt.subplot(3,1,1)\n",
    "    sns.countplot(x = feature1 , data = data)\n",
    "    plt.subplot(3,1,2)\n",
    "    sns.countplot(x = feature2 , data =data )\n",
    "    plt.subplot(3,1,3)\n",
    "    sns.countplot(x = feature3 , data =data )"
   ]
  },
  {
   "cell_type": "code",
   "execution_count": 16,
   "metadata": {},
   "outputs": [
    {
     "data": {
      "image/png": "[encoded data removed]",
      "text/plain": [
       "<Figure size 864x576 with 3 Axes>"
      ]
     },
     "metadata": {
      "needs_background": "light"
     },
     "output_type": "display_data"
    }
   ],
   "source": [
    "count_plot(\"Energie\",\"Boite\",\"Year\", df2)"
   ]
  },
  {
   "cell_type": "code",
   "execution_count": 17,
   "metadata": {},
   "outputs": [
    {
     "data": {
      "text/plain": [
       "<matplotlib.axes._subplots.AxesSubplot at 0x2149a5210c8>"
      ]
     },
     "execution_count": 17,
     "metadata": {},
     "output_type": "execute_result"
    },
    {
     "data": {
      "image/png": "[encoded data removed]",
      "text/plain": [
       "<Figure size 432x288 with 1 Axes>"
      ]
     },
     "metadata": {
      "needs_background": "light"
     },
     "output_type": "display_data"
    }
   ],
   "source": [
    "sns.boxplot(x = \"Boite\" , y =\"Kilometrage\" , data = df2)"
   ]
  },
  {
   "cell_type": "code",
   "execution_count": 18,
   "metadata": {},
   "outputs": [
    {
     "data": {
      "text/plain": [
       "<seaborn.axisgrid.JointGrid at 0x2149a5a9708>"
      ]
     },
     "execution_count": 18,
     "metadata": {},
     "output_type": "execute_result"
    },
    {
     "data": {
      "image/png": "[encoded data removed]",
      "text/plain": [
       "<Figure size 432x432 with 3 Axes>"
      ]
     },
     "metadata": {
      "needs_background": "light"
     },
     "output_type": "display_data"
    }
   ],
   "source": [
    "sns.jointplot(x =\"Kilometrage\", y =\"Price\" , data = df2)"
   ]
  },
  {
   "cell_type": "code",
   "execution_count": null,
   "metadata": {},
   "outputs": [],
   "source": []
  },
  {
   "cell_type": "markdown",
   "metadata": {},
   "source": [
    "<h2 style=\"color:red\">STEP 3 : Feature Engineering</h2>\n"
   ]
  },
  {
   "cell_type": "code",
   "execution_count": 19,
   "metadata": {},
   "outputs": [],
   "source": [
    "# DELETE :\n",
    "# df2 Where Kilom > 600.000 km\n",
    "# df2 Where 20.000 < Price < 200.000\n",
    "# df2 Where Brand.value_counts()<2"
   ]
  },
  {
   "cell_type": "code",
   "execution_count": 20,
   "metadata": {},
   "outputs": [],
   "source": [
    "df3 = df2[(df2['Price'] > 20000) & (df2['Price'] < 200000)]"
   ]
  },
  {
   "cell_type": "code",
   "execution_count": 21,
   "metadata": {},
   "outputs": [],
   "source": [
    "df4 = df3[(df3['Kilometrage'] < 600000)]\n"
   ]
  },
  {
   "cell_type": "code",
   "execution_count": 22,
   "metadata": {},
   "outputs": [
    {
     "data": {
      "text/plain": [
       "20400"
      ]
     },
     "execution_count": 22,
     "metadata": {},
     "output_type": "execute_result"
    }
   ],
   "source": [
    "df4.Price.min()"
   ]
  },
  {
   "cell_type": "code",
   "execution_count": 23,
   "metadata": {},
   "outputs": [
    {
     "data": {
      "text/plain": [
       "Peugeot 206             1\n",
       "Infiniti Q45            1\n",
       "Mercedes-Benz CL        1\n",
       "Peugeot 308 cc          1\n",
       "Honda City              1\n",
       "                       ..\n",
       "Chevrolet Venture       1\n",
       "Opel Vivaro             1\n",
       "Ford Escort             1\n",
       "Skoda Rapid             1\n",
       "Renault Clio Classic    1\n",
       "Name: Brand, Length: 107, dtype: int64"
      ]
     },
     "execution_count": 23,
     "metadata": {},
     "output_type": "execute_result"
    }
   ],
   "source": [
    "drop_brand_contrainte = df4.Brand.value_counts() \n",
    "drop_brand_contrainte_under_2 = drop_brand_contrainte[drop_brand_contrainte < 2 ]\n",
    "drop_brand_contrainte_under_2"
   ]
  },
  {
   "cell_type": "code",
   "execution_count": 24,
   "metadata": {},
   "outputs": [
    {
     "name": "stderr",
     "output_type": "stream",
     "text": [
      "C:\\Users\\KOUSSAY\\Anaconda3\\lib\\site-packages\\pandas\\core\\generic.py:5303: SettingWithCopyWarning: \n",
      "A value is trying to be set on a copy of a slice from a DataFrame.\n",
      "Try using .loc[row_indexer,col_indexer] = value instead\n",
      "\n",
      "See the caveats in the documentation: https://pandas.pydata.org/pandas-docs/stable/user_guide/indexing.html#returning-a-view-versus-a-copy\n",
      "  self[name] = value\n"
     ]
    }
   ],
   "source": [
    "df4.Brand = df4.Brand.apply(lambda x : \"other\" if x in drop_brand_contrainte_under_2 else x )"
   ]
  },
  {
   "cell_type": "code",
   "execution_count": 25,
   "metadata": {},
   "outputs": [
    {
     "data": {
      "text/plain": [
       "<matplotlib.axes._subplots.AxesSubplot at 0x2149b36e388>"
      ]
     },
     "execution_count": 25,
     "metadata": {},
     "output_type": "execute_result"
    },
    {
     "data": {
      "image/png": "[encoded data removed]",
      "text/plain": [
       "<Figure size 432x288 with 1 Axes>"
      ]
     },
     "metadata": {
      "needs_background": "light"
     },
     "output_type": "display_data"
    }
   ],
   "source": [
    "sns.distplot(df.Kilometrage)"
   ]
  },
  {
   "cell_type": "code",
   "execution_count": 26,
   "metadata": {},
   "outputs": [
    {
     "data": {
      "text/html": [
       "<div>\n",
       "<style scoped>\n",
       "    .dataframe tbody tr th:only-of-type {\n",
       "        vertical-align: middle;\n",
       "    }\n",
       "\n",
       "    .dataframe tbody tr th {\n",
       "        vertical-align: top;\n",
       "    }\n",
       "\n",
       "    .dataframe thead th {\n",
       "        text-align: right;\n",
       "    }\n",
       "</style>\n",
       "<table border=\"1\" class=\"dataframe\">\n",
       "  <thead>\n",
       "    <tr style=\"text-align: right;\">\n",
       "      <th></th>\n",
       "      <th>Brand</th>\n",
       "      <th>Price</th>\n",
       "      <th>Year</th>\n",
       "      <th>Kilometrage</th>\n",
       "      <th>Energie</th>\n",
       "      <th>Boite</th>\n",
       "    </tr>\n",
       "  </thead>\n",
       "  <tbody>\n",
       "    <tr>\n",
       "      <th>0</th>\n",
       "      <td>Mercedes-Benz GLA</td>\n",
       "      <td>138500</td>\n",
       "      <td>2012</td>\n",
       "      <td>105000</td>\n",
       "      <td>Essence</td>\n",
       "      <td>Manuelle</td>\n",
       "    </tr>\n",
       "    <tr>\n",
       "      <th>3</th>\n",
       "      <td>BMW Série 3</td>\n",
       "      <td>126000</td>\n",
       "      <td>2017</td>\n",
       "      <td>7000</td>\n",
       "      <td>Essence</td>\n",
       "      <td>Manuelle</td>\n",
       "    </tr>\n",
       "    <tr>\n",
       "      <th>4</th>\n",
       "      <td>BMW Série 5</td>\n",
       "      <td>117500</td>\n",
       "      <td>2012</td>\n",
       "      <td>4400</td>\n",
       "      <td>Essence</td>\n",
       "      <td>Manuelle</td>\n",
       "    </tr>\n",
       "    <tr>\n",
       "      <th>6</th>\n",
       "      <td>Land Rover Range Rover Sport</td>\n",
       "      <td>175000</td>\n",
       "      <td>2014</td>\n",
       "      <td>100000</td>\n",
       "      <td>Diesel</td>\n",
       "      <td>Automatique</td>\n",
       "    </tr>\n",
       "    <tr>\n",
       "      <th>7</th>\n",
       "      <td>Porsche Cayenne</td>\n",
       "      <td>175000</td>\n",
       "      <td>2016</td>\n",
       "      <td>47000</td>\n",
       "      <td>Essence</td>\n",
       "      <td>Automatique</td>\n",
       "    </tr>\n",
       "  </tbody>\n",
       "</table>\n",
       "</div>"
      ],
      "text/plain": [
       "                          Brand   Price  Year  Kilometrage  Energie  \\\n",
       "0             Mercedes-Benz GLA  138500  2012       105000  Essence   \n",
       "3                   BMW Série 3  126000  2017         7000  Essence   \n",
       "4                   BMW Série 5  117500  2012         4400  Essence   \n",
       "6  Land Rover Range Rover Sport  175000  2014       100000   Diesel   \n",
       "7               Porsche Cayenne  175000  2016        47000  Essence   \n",
       "\n",
       "         Boite  \n",
       "0     Manuelle  \n",
       "3     Manuelle  \n",
       "4     Manuelle  \n",
       "6  Automatique  \n",
       "7  Automatique  "
      ]
     },
     "execution_count": 26,
     "metadata": {},
     "output_type": "execute_result"
    }
   ],
   "source": [
    "df4.head()"
   ]
  },
  {
   "cell_type": "code",
   "execution_count": 27,
   "metadata": {},
   "outputs": [
    {
     "name": "stderr",
     "output_type": "stream",
     "text": [
      "C:\\Users\\KOUSSAY\\AppData\\Roaming\\Python\\Python37\\site-packages\\ipykernel_launcher.py:3: SettingWithCopyWarning: \n",
      "A value is trying to be set on a copy of a slice from a DataFrame.\n",
      "Try using .loc[row_indexer,col_indexer] = value instead\n",
      "\n",
      "See the caveats in the documentation: https://pandas.pydata.org/pandas-docs/stable/user_guide/indexing.html#returning-a-view-versus-a-copy\n",
      "  This is separate from the ipykernel package so we can avoid doing imports until\n"
     ]
    }
   ],
   "source": [
    "dict0 = {\"Essence\" : 1 , \"Diesel\" : 0 }\n",
    "dict1 = {\"Manuelle\" : 1 , \"Automatique\" : 0}\n",
    "df4['Energie'] = pd.to_numeric(df4['Energie'].map(dict0))\n"
   ]
  },
  {
   "cell_type": "code",
   "execution_count": 28,
   "metadata": {},
   "outputs": [
    {
     "name": "stderr",
     "output_type": "stream",
     "text": [
      "C:\\Users\\KOUSSAY\\AppData\\Roaming\\Python\\Python37\\site-packages\\ipykernel_launcher.py:1: SettingWithCopyWarning: \n",
      "A value is trying to be set on a copy of a slice from a DataFrame.\n",
      "Try using .loc[row_indexer,col_indexer] = value instead\n",
      "\n",
      "See the caveats in the documentation: https://pandas.pydata.org/pandas-docs/stable/user_guide/indexing.html#returning-a-view-versus-a-copy\n",
      "  \"\"\"Entry point for launching an IPython kernel.\n"
     ]
    }
   ],
   "source": [
    "df4['Boite'] = pd.to_numeric(df4['Boite'].map(dict1))"
   ]
  },
  {
   "cell_type": "code",
   "execution_count": 29,
   "metadata": {},
   "outputs": [
    {
     "data": {
      "text/html": [
       "<div>\n",
       "<style scoped>\n",
       "    .dataframe tbody tr th:only-of-type {\n",
       "        vertical-align: middle;\n",
       "    }\n",
       "\n",
       "    .dataframe tbody tr th {\n",
       "        vertical-align: top;\n",
       "    }\n",
       "\n",
       "    .dataframe thead th {\n",
       "        text-align: right;\n",
       "    }\n",
       "</style>\n",
       "<table border=\"1\" class=\"dataframe\">\n",
       "  <thead>\n",
       "    <tr style=\"text-align: right;\">\n",
       "      <th></th>\n",
       "      <th>Alfa Romeo 147</th>\n",
       "      <th>Alfa Romeo Giulietta</th>\n",
       "      <th>Alfa Romeo Mito</th>\n",
       "      <th>Audi A1</th>\n",
       "      <th>Audi A3</th>\n",
       "      <th>Audi A3 Berline</th>\n",
       "      <th>Audi A3 Sportback</th>\n",
       "      <th>Audi A4</th>\n",
       "      <th>Audi A5 Coupé</th>\n",
       "      <th>Audi A5 Sportback</th>\n",
       "      <th>...</th>\n",
       "      <th>Volkswagen Scirocco</th>\n",
       "      <th>Volkswagen Tiguan</th>\n",
       "      <th>Volkswagen Touareg</th>\n",
       "      <th>Volkswagen Touran</th>\n",
       "      <th>Volkswagen Transporter</th>\n",
       "      <th>Volvo C30</th>\n",
       "      <th>Volvo S60</th>\n",
       "      <th>Volvo S80</th>\n",
       "      <th>Wallyscar Izis</th>\n",
       "      <th>other</th>\n",
       "    </tr>\n",
       "  </thead>\n",
       "  <tbody>\n",
       "    <tr>\n",
       "      <th>0</th>\n",
       "      <td>0</td>\n",
       "      <td>0</td>\n",
       "      <td>0</td>\n",
       "      <td>0</td>\n",
       "      <td>0</td>\n",
       "      <td>0</td>\n",
       "      <td>0</td>\n",
       "      <td>0</td>\n",
       "      <td>0</td>\n",
       "      <td>0</td>\n",
       "      <td>...</td>\n",
       "      <td>0</td>\n",
       "      <td>0</td>\n",
       "      <td>0</td>\n",
       "      <td>0</td>\n",
       "      <td>0</td>\n",
       "      <td>0</td>\n",
       "      <td>0</td>\n",
       "      <td>0</td>\n",
       "      <td>0</td>\n",
       "      <td>0</td>\n",
       "    </tr>\n",
       "    <tr>\n",
       "      <th>3</th>\n",
       "      <td>0</td>\n",
       "      <td>0</td>\n",
       "      <td>0</td>\n",
       "      <td>0</td>\n",
       "      <td>0</td>\n",
       "      <td>0</td>\n",
       "      <td>0</td>\n",
       "      <td>0</td>\n",
       "      <td>0</td>\n",
       "      <td>0</td>\n",
       "      <td>...</td>\n",
       "      <td>0</td>\n",
       "      <td>0</td>\n",
       "      <td>0</td>\n",
       "      <td>0</td>\n",
       "      <td>0</td>\n",
       "      <td>0</td>\n",
       "      <td>0</td>\n",
       "      <td>0</td>\n",
       "      <td>0</td>\n",
       "      <td>0</td>\n",
       "    </tr>\n",
       "    <tr>\n",
       "      <th>4</th>\n",
       "      <td>0</td>\n",
       "      <td>0</td>\n",
       "      <td>0</td>\n",
       "      <td>0</td>\n",
       "      <td>0</td>\n",
       "      <td>0</td>\n",
       "      <td>0</td>\n",
       "      <td>0</td>\n",
       "      <td>0</td>\n",
       "      <td>0</td>\n",
       "      <td>...</td>\n",
       "      <td>0</td>\n",
       "      <td>0</td>\n",
       "      <td>0</td>\n",
       "      <td>0</td>\n",
       "      <td>0</td>\n",
       "      <td>0</td>\n",
       "      <td>0</td>\n",
       "      <td>0</td>\n",
       "      <td>0</td>\n",
       "      <td>0</td>\n",
       "    </tr>\n",
       "    <tr>\n",
       "      <th>6</th>\n",
       "      <td>0</td>\n",
       "      <td>0</td>\n",
       "      <td>0</td>\n",
       "      <td>0</td>\n",
       "      <td>0</td>\n",
       "      <td>0</td>\n",
       "      <td>0</td>\n",
       "      <td>0</td>\n",
       "      <td>0</td>\n",
       "      <td>0</td>\n",
       "      <td>...</td>\n",
       "      <td>0</td>\n",
       "      <td>0</td>\n",
       "      <td>0</td>\n",
       "      <td>0</td>\n",
       "      <td>0</td>\n",
       "      <td>0</td>\n",
       "      <td>0</td>\n",
       "      <td>0</td>\n",
       "      <td>0</td>\n",
       "      <td>0</td>\n",
       "    </tr>\n",
       "    <tr>\n",
       "      <th>7</th>\n",
       "      <td>0</td>\n",
       "      <td>0</td>\n",
       "      <td>0</td>\n",
       "      <td>0</td>\n",
       "      <td>0</td>\n",
       "      <td>0</td>\n",
       "      <td>0</td>\n",
       "      <td>0</td>\n",
       "      <td>0</td>\n",
       "      <td>0</td>\n",
       "      <td>...</td>\n",
       "      <td>0</td>\n",
       "      <td>0</td>\n",
       "      <td>0</td>\n",
       "      <td>0</td>\n",
       "      <td>0</td>\n",
       "      <td>0</td>\n",
       "      <td>0</td>\n",
       "      <td>0</td>\n",
       "      <td>0</td>\n",
       "      <td>0</td>\n",
       "    </tr>\n",
       "  </tbody>\n",
       "</table>\n",
       "<p>5 rows × 230 columns</p>\n",
       "</div>"
      ],
      "text/plain": [
       "   Alfa Romeo 147  Alfa Romeo Giulietta  Alfa Romeo Mito  Audi A1  Audi A3  \\\n",
       "0               0                     0                0        0        0   \n",
       "3               0                     0                0        0        0   \n",
       "4               0                     0                0        0        0   \n",
       "6               0                     0                0        0        0   \n",
       "7               0                     0                0        0        0   \n",
       "\n",
       "   Audi A3 Berline  Audi A3 Sportback  Audi A4  Audi A5 Coupé  \\\n",
       "0                0                  0        0              0   \n",
       "3                0                  0        0              0   \n",
       "4                0                  0        0              0   \n",
       "6                0                  0        0              0   \n",
       "7                0                  0        0              0   \n",
       "\n",
       "   Audi A5 Sportback  ...  Volkswagen Scirocco  Volkswagen Tiguan  \\\n",
       "0                  0  ...                    0                  0   \n",
       "3                  0  ...                    0                  0   \n",
       "4                  0  ...                    0                  0   \n",
       "6                  0  ...                    0                  0   \n",
       "7                  0  ...                    0                  0   \n",
       "\n",
       "   Volkswagen Touareg  Volkswagen Touran  Volkswagen Transporter  Volvo C30  \\\n",
       "0                   0                  0                       0          0   \n",
       "3                   0                  0                       0          0   \n",
       "4                   0                  0                       0          0   \n",
       "6                   0                  0                       0          0   \n",
       "7                   0                  0                       0          0   \n",
       "\n",
       "   Volvo S60  Volvo S80  Wallyscar Izis  other  \n",
       "0          0          0               0      0  \n",
       "3          0          0               0      0  \n",
       "4          0          0               0      0  \n",
       "6          0          0               0      0  \n",
       "7          0          0               0      0  \n",
       "\n",
       "[5 rows x 230 columns]"
      ]
     },
     "execution_count": 29,
     "metadata": {},
     "output_type": "execute_result"
    }
   ],
   "source": [
    "dummies = pd.get_dummies(df4['Brand'] )\n",
    "dummies.head()"
   ]
  },
  {
   "cell_type": "code",
   "execution_count": 30,
   "metadata": {},
   "outputs": [],
   "source": [
    "df5 = pd.concat([df4 ,dummies.drop(\"other\" , axis= \"columns\")] , axis = \"columns\")"
   ]
  },
  {
   "cell_type": "code",
   "execution_count": 31,
   "metadata": {},
   "outputs": [
    {
     "data": {
      "text/html": [
       "<div>\n",
       "<style scoped>\n",
       "    .dataframe tbody tr th:only-of-type {\n",
       "        vertical-align: middle;\n",
       "    }\n",
       "\n",
       "    .dataframe tbody tr th {\n",
       "        vertical-align: top;\n",
       "    }\n",
       "\n",
       "    .dataframe thead th {\n",
       "        text-align: right;\n",
       "    }\n",
       "</style>\n",
       "<table border=\"1\" class=\"dataframe\">\n",
       "  <thead>\n",
       "    <tr style=\"text-align: right;\">\n",
       "      <th></th>\n",
       "      <th>Brand</th>\n",
       "      <th>Price</th>\n",
       "      <th>Year</th>\n",
       "      <th>Kilometrage</th>\n",
       "      <th>Energie</th>\n",
       "      <th>Boite</th>\n",
       "      <th>Alfa Romeo 147</th>\n",
       "      <th>Alfa Romeo Giulietta</th>\n",
       "      <th>Alfa Romeo Mito</th>\n",
       "      <th>Audi A1</th>\n",
       "      <th>...</th>\n",
       "      <th>Volkswagen Polo Sedan</th>\n",
       "      <th>Volkswagen Scirocco</th>\n",
       "      <th>Volkswagen Tiguan</th>\n",
       "      <th>Volkswagen Touareg</th>\n",
       "      <th>Volkswagen Touran</th>\n",
       "      <th>Volkswagen Transporter</th>\n",
       "      <th>Volvo C30</th>\n",
       "      <th>Volvo S60</th>\n",
       "      <th>Volvo S80</th>\n",
       "      <th>Wallyscar Izis</th>\n",
       "    </tr>\n",
       "  </thead>\n",
       "  <tbody>\n",
       "    <tr>\n",
       "      <th>0</th>\n",
       "      <td>Mercedes-Benz GLA</td>\n",
       "      <td>138500</td>\n",
       "      <td>2012</td>\n",
       "      <td>105000</td>\n",
       "      <td>1</td>\n",
       "      <td>1</td>\n",
       "      <td>0</td>\n",
       "      <td>0</td>\n",
       "      <td>0</td>\n",
       "      <td>0</td>\n",
       "      <td>...</td>\n",
       "      <td>0</td>\n",
       "      <td>0</td>\n",
       "      <td>0</td>\n",
       "      <td>0</td>\n",
       "      <td>0</td>\n",
       "      <td>0</td>\n",
       "      <td>0</td>\n",
       "      <td>0</td>\n",
       "      <td>0</td>\n",
       "      <td>0</td>\n",
       "    </tr>\n",
       "    <tr>\n",
       "      <th>3</th>\n",
       "      <td>BMW Série 3</td>\n",
       "      <td>126000</td>\n",
       "      <td>2017</td>\n",
       "      <td>7000</td>\n",
       "      <td>1</td>\n",
       "      <td>1</td>\n",
       "      <td>0</td>\n",
       "      <td>0</td>\n",
       "      <td>0</td>\n",
       "      <td>0</td>\n",
       "      <td>...</td>\n",
       "      <td>0</td>\n",
       "      <td>0</td>\n",
       "      <td>0</td>\n",
       "      <td>0</td>\n",
       "      <td>0</td>\n",
       "      <td>0</td>\n",
       "      <td>0</td>\n",
       "      <td>0</td>\n",
       "      <td>0</td>\n",
       "      <td>0</td>\n",
       "    </tr>\n",
       "    <tr>\n",
       "      <th>4</th>\n",
       "      <td>BMW Série 5</td>\n",
       "      <td>117500</td>\n",
       "      <td>2012</td>\n",
       "      <td>4400</td>\n",
       "      <td>1</td>\n",
       "      <td>1</td>\n",
       "      <td>0</td>\n",
       "      <td>0</td>\n",
       "      <td>0</td>\n",
       "      <td>0</td>\n",
       "      <td>...</td>\n",
       "      <td>0</td>\n",
       "      <td>0</td>\n",
       "      <td>0</td>\n",
       "      <td>0</td>\n",
       "      <td>0</td>\n",
       "      <td>0</td>\n",
       "      <td>0</td>\n",
       "      <td>0</td>\n",
       "      <td>0</td>\n",
       "      <td>0</td>\n",
       "    </tr>\n",
       "    <tr>\n",
       "      <th>6</th>\n",
       "      <td>Land Rover Range Rover Sport</td>\n",
       "      <td>175000</td>\n",
       "      <td>2014</td>\n",
       "      <td>100000</td>\n",
       "      <td>0</td>\n",
       "      <td>0</td>\n",
       "      <td>0</td>\n",
       "      <td>0</td>\n",
       "      <td>0</td>\n",
       "      <td>0</td>\n",
       "      <td>...</td>\n",
       "      <td>0</td>\n",
       "      <td>0</td>\n",
       "      <td>0</td>\n",
       "      <td>0</td>\n",
       "      <td>0</td>\n",
       "      <td>0</td>\n",
       "      <td>0</td>\n",
       "      <td>0</td>\n",
       "      <td>0</td>\n",
       "      <td>0</td>\n",
       "    </tr>\n",
       "    <tr>\n",
       "      <th>7</th>\n",
       "      <td>Porsche Cayenne</td>\n",
       "      <td>175000</td>\n",
       "      <td>2016</td>\n",
       "      <td>47000</td>\n",
       "      <td>1</td>\n",
       "      <td>0</td>\n",
       "      <td>0</td>\n",
       "      <td>0</td>\n",
       "      <td>0</td>\n",
       "      <td>0</td>\n",
       "      <td>...</td>\n",
       "      <td>0</td>\n",
       "      <td>0</td>\n",
       "      <td>0</td>\n",
       "      <td>0</td>\n",
       "      <td>0</td>\n",
       "      <td>0</td>\n",
       "      <td>0</td>\n",
       "      <td>0</td>\n",
       "      <td>0</td>\n",
       "      <td>0</td>\n",
       "    </tr>\n",
       "  </tbody>\n",
       "</table>\n",
       "<p>5 rows × 235 columns</p>\n",
       "</div>"
      ],
      "text/plain": [
       "                          Brand   Price  Year  Kilometrage  Energie  Boite  \\\n",
       "0             Mercedes-Benz GLA  138500  2012       105000        1      1   \n",
       "3                   BMW Série 3  126000  2017         7000        1      1   \n",
       "4                   BMW Série 5  117500  2012         4400        1      1   \n",
       "6  Land Rover Range Rover Sport  175000  2014       100000        0      0   \n",
       "7               Porsche Cayenne  175000  2016        47000        1      0   \n",
       "\n",
       "   Alfa Romeo 147  Alfa Romeo Giulietta  Alfa Romeo Mito  Audi A1  ...  \\\n",
       "0               0                     0                0        0  ...   \n",
       "3               0                     0                0        0  ...   \n",
       "4               0                     0                0        0  ...   \n",
       "6               0                     0                0        0  ...   \n",
       "7               0                     0                0        0  ...   \n",
       "\n",
       "   Volkswagen Polo Sedan  Volkswagen Scirocco  Volkswagen Tiguan  \\\n",
       "0                      0                    0                  0   \n",
       "3                      0                    0                  0   \n",
       "4                      0                    0                  0   \n",
       "6                      0                    0                  0   \n",
       "7                      0                    0                  0   \n",
       "\n",
       "   Volkswagen Touareg  Volkswagen Touran  Volkswagen Transporter  Volvo C30  \\\n",
       "0                   0                  0                       0          0   \n",
       "3                   0                  0                       0          0   \n",
       "4                   0                  0                       0          0   \n",
       "6                   0                  0                       0          0   \n",
       "7                   0                  0                       0          0   \n",
       "\n",
       "   Volvo S60  Volvo S80  Wallyscar Izis  \n",
       "0          0          0               0  \n",
       "3          0          0               0  \n",
       "4          0          0               0  \n",
       "6          0          0               0  \n",
       "7          0          0               0  \n",
       "\n",
       "[5 rows x 235 columns]"
      ]
     },
     "execution_count": 31,
     "metadata": {},
     "output_type": "execute_result"
    }
   ],
   "source": [
    "df5.head()"
   ]
  },
  {
   "cell_type": "markdown",
   "metadata": {},
   "source": [
    "<h2 style=\"color:red\">STEP 4 : Prediction</h2>\n"
   ]
  },
  {
   "cell_type": "code",
   "execution_count": 32,
   "metadata": {},
   "outputs": [],
   "source": [
    "from sklearn.model_selection import train_test_split\n",
    "from sklearn.linear_model import LinearRegression\n",
    "from sklearn.linear_model import Lasso\n",
    "from sklearn.metrics import mean_squared_error \n"
   ]
  },
  {
   "cell_type": "code",
   "execution_count": 33,
   "metadata": {},
   "outputs": [],
   "source": [
    "X = df5.drop([\"Brand\" , \"Price\" ], axis = \"columns\") \n",
    "y = df5.Price"
   ]
  },
  {
   "cell_type": "code",
   "execution_count": 34,
   "metadata": {},
   "outputs": [],
   "source": [
    "X_train , X_test , y_train , y_test = train_test_split(X,y, test_size = 0.2,random_state = 10)"
   ]
  },
  {
   "cell_type": "code",
   "execution_count": 35,
   "metadata": {},
   "outputs": [
    {
     "name": "stdout",
     "output_type": "stream",
     "text": [
      "Training accuracy (the coefficient of determination): 0.708\n"
     ]
    }
   ],
   "source": [
    "lm = LinearRegression(fit_intercept=True, normalize=True, copy_X=True)\n",
    "lm.fit(X_train, y_train)\n",
    "print('Training accuracy (the coefficient of determination): {:.3f}'.format(lm.score(X_train, y_train)))"
   ]
  },
  {
   "cell_type": "code",
   "execution_count": 36,
   "metadata": {},
   "outputs": [
    {
     "name": "stdout",
     "output_type": "stream",
     "text": [
      "Testing accuracy by using score function: 0.599\n"
     ]
    }
   ],
   "source": [
    "print('Testing accuracy by using score function: {:.3f}'.format(lm.score(X_test, y_test)))\n"
   ]
  },
  {
   "cell_type": "code",
   "execution_count": 37,
   "metadata": {},
   "outputs": [
    {
     "data": {
      "text/plain": [
       "447837934.29511696"
      ]
     },
     "execution_count": 37,
     "metadata": {},
     "output_type": "execute_result"
    }
   ],
   "source": [
    "y_pred = lm.predict(X_test)\n",
    "mean_squared_error(y_test,y_pred)"
   ]
  },
  {
   "cell_type": "code",
   "execution_count": 38,
   "metadata": {},
   "outputs": [],
   "source": [
    "from sklearn.ensemble import RandomForestRegressor"
   ]
  },
  {
   "cell_type": "code",
   "execution_count": 39,
   "metadata": {},
   "outputs": [],
   "source": [
    "rf = RandomForestRegressor()"
   ]
  },
  {
   "cell_type": "code",
   "execution_count": 40,
   "metadata": {},
   "outputs": [
    {
     "data": {
      "text/plain": [
       "RandomForestRegressor(bootstrap=True, ccp_alpha=0.0, criterion='mse',\n",
       "                      max_depth=None, max_features='auto', max_leaf_nodes=None,\n",
       "                      max_samples=None, min_impurity_decrease=0.0,\n",
       "                      min_impurity_split=None, min_samples_leaf=1,\n",
       "                      min_samples_split=2, min_weight_fraction_leaf=0.0,\n",
       "                      n_estimators=100, n_jobs=None, oob_score=False,\n",
       "                      random_state=None, verbose=0, warm_start=False)"
      ]
     },
     "execution_count": 40,
     "metadata": {},
     "output_type": "execute_result"
    }
   ],
   "source": [
    "rf.fit(X_train,y_train)\n"
   ]
  },
  {
   "cell_type": "code",
   "execution_count": 41,
   "metadata": {},
   "outputs": [
    {
     "data": {
      "text/plain": [
       "0.5428093934669971"
      ]
     },
     "execution_count": 41,
     "metadata": {},
     "output_type": "execute_result"
    }
   ],
   "source": [
    "rf.score(X_test,y_test)"
   ]
  },
  {
   "cell_type": "code",
   "execution_count": 42,
   "metadata": {},
   "outputs": [
    {
     "data": {
      "text/plain": [
       "array([ 6.64121053e-01,  6.64945431e-01,  6.44972460e-01, -2.23992541e+09,\n",
       "        5.37835888e-01])"
      ]
     },
     "execution_count": 42,
     "metadata": {},
     "output_type": "execute_result"
    }
   ],
   "source": [
    "from sklearn.model_selection import cross_val_score\n",
    "from sklearn.tree import DecisionTreeRegressor\n",
    "from sklearn.model_selection import ShuffleSplit\n",
    "from sklearn.model_selection import GridSearchCV\n",
    "\n",
    "cv = ShuffleSplit(n_splits= 5 , test_size = 0.2 , random_state = 3 ) \n",
    "cross_val_score(LinearRegression() , X , y , cv = cv ) "
   ]
  },
  {
   "cell_type": "code",
   "execution_count": 43,
   "metadata": {},
   "outputs": [],
   "source": [
    "def find_vest_model_using_gridsearchcv(X,y):\n",
    "    \n",
    "    algos = {\n",
    "        \n",
    "        'linear_regression' : {\n",
    "            'model' : LinearRegression(),\n",
    "            'params' : {\n",
    "                'normalize' : [True , False]\n",
    "                        }\n",
    "                              },\n",
    "        \n",
    "        'lasso' : {\n",
    "            'model' : Lasso(),\n",
    "            'params': {\n",
    "                'alpha' : [1,2],\n",
    "                'selection' : ['random' , 'cyclic']\n",
    "                      }\n",
    "                   },\n",
    "        \n",
    "        \n",
    "        'decesion_tree' : {\n",
    "            'model' : DecisionTreeRegressor(),\n",
    "            'params' : {\n",
    "            'criterion':['mse','friedman_mse'],\n",
    "            'splitter' : ['best', 'random']       \n",
    "                       }   \n",
    "                          }\n",
    "            }\n",
    "\n",
    "    \n",
    "    scores = []\n",
    "    cv = ShuffleSplit(n_splits=5, test_size=0.2, random_state=3)\n",
    "    \n",
    "    for algo_name, config in algos.items():\n",
    "            \n",
    "        gs =  GridSearchCV(config['model'], config['params'], cv=cv, return_train_score=False)\n",
    "        gs.fit(X,y)\n",
    "        scores.append({\n",
    "            'Model': algo_name,\n",
    "            'Best_Score': gs.best_score_,\n",
    "            'Best_Parms': gs.best_params_\n",
    "        })\n",
    "\n",
    "    return pd.DataFrame(scores,columns=['Model','Best_Score','Best_Parms']) \n",
    "    \n",
    "\n",
    "    "
   ]
  },
  {
   "cell_type": "code",
   "execution_count": 44,
   "metadata": {},
   "outputs": [
    {
     "data": {
      "text/html": [
       "<div>\n",
       "<style scoped>\n",
       "    .dataframe tbody tr th:only-of-type {\n",
       "        vertical-align: middle;\n",
       "    }\n",
       "\n",
       "    .dataframe tbody tr th {\n",
       "        vertical-align: top;\n",
       "    }\n",
       "\n",
       "    .dataframe thead th {\n",
       "        text-align: right;\n",
       "    }\n",
       "</style>\n",
       "<table border=\"1\" class=\"dataframe\">\n",
       "  <thead>\n",
       "    <tr style=\"text-align: right;\">\n",
       "      <th></th>\n",
       "      <th>Model</th>\n",
       "      <th>Best_Score</th>\n",
       "      <th>Best_Parms</th>\n",
       "    </tr>\n",
       "  </thead>\n",
       "  <tbody>\n",
       "    <tr>\n",
       "      <th>0</th>\n",
       "      <td>linear_regression</td>\n",
       "      <td>-4.479851e+08</td>\n",
       "      <td>{'normalize': False}</td>\n",
       "    </tr>\n",
       "    <tr>\n",
       "      <th>1</th>\n",
       "      <td>lasso</td>\n",
       "      <td>6.120606e-01</td>\n",
       "      <td>{'alpha': 2, 'selection': 'cyclic'}</td>\n",
       "    </tr>\n",
       "    <tr>\n",
       "      <th>2</th>\n",
       "      <td>decesion_tree</td>\n",
       "      <td>3.172498e-01</td>\n",
       "      <td>{'criterion': 'friedman_mse', 'splitter': 'best'}</td>\n",
       "    </tr>\n",
       "  </tbody>\n",
       "</table>\n",
       "</div>"
      ],
      "text/plain": [
       "               Model    Best_Score  \\\n",
       "0  linear_regression -4.479851e+08   \n",
       "1              lasso  6.120606e-01   \n",
       "2      decesion_tree  3.172498e-01   \n",
       "\n",
       "                                          Best_Parms  \n",
       "0                               {'normalize': False}  \n",
       "1                {'alpha': 2, 'selection': 'cyclic'}  \n",
       "2  {'criterion': 'friedman_mse', 'splitter': 'best'}  "
      ]
     },
     "execution_count": 44,
     "metadata": {},
     "output_type": "execute_result"
    }
   ],
   "source": [
    "find_vest_model_using_gridsearchcv(X,y)"
   ]
  },
  {
   "cell_type": "code",
   "execution_count": 45,
   "metadata": {},
   "outputs": [],
   "source": [
    "def predict(brand , year , kilometrage , energie , boite):\n",
    "    loc_index = np.where(X.columns == brand)[0][0]\n",
    "    x = np.zeros(len(X.columns))\n",
    "    x[0] = year\n",
    "    x[1] = kilometrage\n",
    "    x[2] = energie\n",
    "    x[3] = boite\n",
    "    x[loc_index] = 1\n",
    "    \n",
    "    if lm.predict([x])[0] > 0 :\n",
    "        return  lm.predict([x])[0]\n",
    "    else:\n",
    "        print ('Value Impossible')"
   ]
  },
  {
   "cell_type": "code",
   "execution_count": 46,
   "metadata": {},
   "outputs": [
    {
     "data": {
      "text/plain": [
       "63187.861652016174"
      ]
     },
     "execution_count": 46,
     "metadata": {},
     "output_type": "execute_result"
    }
   ],
   "source": [
    "predict(\"Volkswagen Golf 7\" , 2014 , 60000 , 1 , 1)"
   ]
  },
  {
   "cell_type": "code",
   "execution_count": 47,
   "metadata": {},
   "outputs": [
    {
     "data": {
      "text/plain": [
       "56108.122031921055"
      ]
     },
     "execution_count": 47,
     "metadata": {},
     "output_type": "execute_result"
    }
   ],
   "source": [
    "predict(\"Volkswagen Golf 7\" , 2014 , 140000 , 1 , 1)"
   ]
  },
  {
   "cell_type": "code",
   "execution_count": 48,
   "metadata": {},
   "outputs": [
    {
     "data": {
      "text/plain": [
       "55269.881445866544"
      ]
     },
     "execution_count": 48,
     "metadata": {},
     "output_type": "execute_result"
    }
   ],
   "source": [
    "predict(\"BMW Série 3\" , 2008 , 250000 , 1 , 0)"
   ]
  },
  {
   "cell_type": "code",
   "execution_count": 49,
   "metadata": {},
   "outputs": [
    {
     "data": {
      "text/plain": [
       "44272.163210425526"
      ]
     },
     "execution_count": 49,
     "metadata": {},
     "output_type": "execute_result"
    }
   ],
   "source": [
    "predict(\"Volkswagen Passat\" , 2013 , 170000 , 0 , 1)"
   ]
  },
  {
   "cell_type": "code",
   "execution_count": 50,
   "metadata": {},
   "outputs": [
    {
     "data": {
      "text/plain": [
       "46577.07127443049"
      ]
     },
     "execution_count": 50,
     "metadata": {},
     "output_type": "execute_result"
    }
   ],
   "source": [
    "predict(\"Volkswagen Passat\" , 2006 , 57000 , 1 , 0)"
   ]
  }
 ],
 "metadata": {
  "kernelspec": {
   "display_name": "Python 3",
   "language": "python",
   "name": "python3"
  },
  "language_info": {
   "codemirror_mode": {
    "name": "ipython",
    "version": 3
   },
   "file_extension": ".py",
   "mimetype": "text/x-python",
   "name": "python",
   "nbconvert_exporter": "python",
   "pygments_lexer": "ipython3",
   "version": "3.7.7"
  }
 },
 "nbformat": 4,
 "nbformat_minor": 4
}
