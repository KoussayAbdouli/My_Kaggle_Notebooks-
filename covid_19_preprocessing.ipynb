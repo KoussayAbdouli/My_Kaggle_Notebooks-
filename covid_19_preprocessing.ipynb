{
 "cells": [
  {
   "cell_type": "markdown",
   "metadata": {
    "papermill": {
     "duration": 0.049097,
     "end_time": "2020-10-15T01:33:45.661097",
     "exception": false,
     "start_time": "2020-10-15T01:33:45.612000",
     "status": "completed"
    },
    "tags": []
   },
   "source": [
    "<h1 style=\"color:green\">Health Failure Prediction </h1>"
   ]
  },
  {
   "cell_type": "code",
   "execution_count": 1,
   "metadata": {
    "_cell_guid": "b1076dfc-b9ad-4769-8c92-a6c4dae69d19",
    "_uuid": "8f2839f25d086af736a60e9eeb907d3b93b6e0e5",
    "execution": {
     "iopub.execute_input": "2020-10-15T01:33:45.759685Z",
     "iopub.status.busy": "2020-10-15T01:33:45.758964Z",
     "iopub.status.idle": "2020-10-15T01:33:46.871231Z",
     "shell.execute_reply": "2020-10-15T01:33:46.869401Z"
    },
    "papermill": {
     "duration": 1.164794,
     "end_time": "2020-10-15T01:33:46.871383",
     "exception": false,
     "start_time": "2020-10-15T01:33:45.706589",
     "status": "completed"
    },
    "tags": []
   },
   "outputs": [
    {
     "name": "stdout",
     "output_type": "stream",
     "text": [
      "/kaggle/input/heart-failure-clinical-data/heart_failure_clinical_records_dataset.csv\n"
     ]
    }
   ],
   "source": [
    "import numpy as np \n",
    "import pandas as pd\n",
    "import matplotlib.pyplot as plt\n",
    "import seaborn as sns \n",
    "import os\n",
    "for dirname, _, filenames in os.walk('/kaggle/input'):\n",
    "    for filename in filenames:\n",
    "        print(os.path.join(dirname, filename))\n"
   ]
  },
  {
   "cell_type": "code",
   "execution_count": 2,
   "metadata": {
    "_cell_guid": "79c7e3d0-c299-4dcb-8224-4455121ee9b0",
    "_uuid": "d629ff2d2480ee46fbb7e2d37f6b5fab8052498a",
    "execution": {
     "iopub.execute_input": "2020-10-15T01:33:46.972198Z",
     "iopub.status.busy": "2020-10-15T01:33:46.971414Z",
     "iopub.status.idle": "2020-10-15T01:33:47.004340Z",
     "shell.execute_reply": "2020-10-15T01:33:47.004892Z"
    },
    "papermill": {
     "duration": 0.085954,
     "end_time": "2020-10-15T01:33:47.005055",
     "exception": false,
     "start_time": "2020-10-15T01:33:46.919101",
     "status": "completed"
    },
    "tags": []
   },
   "outputs": [
    {
     "data": {
      "text/html": [
       "<div>\n",
       "<style scoped>\n",
       "    .dataframe tbody tr th:only-of-type {\n",
       "        vertical-align: middle;\n",
       "    }\n",
       "\n",
       "    .dataframe tbody tr th {\n",
       "        vertical-align: top;\n",
       "    }\n",
       "\n",
       "    .dataframe thead th {\n",
       "        text-align: right;\n",
       "    }\n",
       "</style>\n",
       "<table border=\"1\" class=\"dataframe\">\n",
       "  <thead>\n",
       "    <tr style=\"text-align: right;\">\n",
       "      <th></th>\n",
       "      <th>age</th>\n",
       "      <th>anaemia</th>\n",
       "      <th>creatinine_phosphokinase</th>\n",
       "      <th>diabetes</th>\n",
       "      <th>ejection_fraction</th>\n",
       "      <th>high_blood_pressure</th>\n",
       "      <th>platelets</th>\n",
       "      <th>serum_creatinine</th>\n",
       "      <th>serum_sodium</th>\n",
       "      <th>sex</th>\n",
       "      <th>smoking</th>\n",
       "      <th>time</th>\n",
       "      <th>DEATH_EVENT</th>\n",
       "    </tr>\n",
       "  </thead>\n",
       "  <tbody>\n",
       "    <tr>\n",
       "      <th>0</th>\n",
       "      <td>75.0</td>\n",
       "      <td>0</td>\n",
       "      <td>582</td>\n",
       "      <td>0</td>\n",
       "      <td>20</td>\n",
       "      <td>1</td>\n",
       "      <td>265000.00</td>\n",
       "      <td>1.9</td>\n",
       "      <td>130</td>\n",
       "      <td>1</td>\n",
       "      <td>0</td>\n",
       "      <td>4</td>\n",
       "      <td>1</td>\n",
       "    </tr>\n",
       "    <tr>\n",
       "      <th>1</th>\n",
       "      <td>55.0</td>\n",
       "      <td>0</td>\n",
       "      <td>7861</td>\n",
       "      <td>0</td>\n",
       "      <td>38</td>\n",
       "      <td>0</td>\n",
       "      <td>263358.03</td>\n",
       "      <td>1.1</td>\n",
       "      <td>136</td>\n",
       "      <td>1</td>\n",
       "      <td>0</td>\n",
       "      <td>6</td>\n",
       "      <td>1</td>\n",
       "    </tr>\n",
       "    <tr>\n",
       "      <th>2</th>\n",
       "      <td>65.0</td>\n",
       "      <td>0</td>\n",
       "      <td>146</td>\n",
       "      <td>0</td>\n",
       "      <td>20</td>\n",
       "      <td>0</td>\n",
       "      <td>162000.00</td>\n",
       "      <td>1.3</td>\n",
       "      <td>129</td>\n",
       "      <td>1</td>\n",
       "      <td>1</td>\n",
       "      <td>7</td>\n",
       "      <td>1</td>\n",
       "    </tr>\n",
       "    <tr>\n",
       "      <th>3</th>\n",
       "      <td>50.0</td>\n",
       "      <td>1</td>\n",
       "      <td>111</td>\n",
       "      <td>0</td>\n",
       "      <td>20</td>\n",
       "      <td>0</td>\n",
       "      <td>210000.00</td>\n",
       "      <td>1.9</td>\n",
       "      <td>137</td>\n",
       "      <td>1</td>\n",
       "      <td>0</td>\n",
       "      <td>7</td>\n",
       "      <td>1</td>\n",
       "    </tr>\n",
       "    <tr>\n",
       "      <th>4</th>\n",
       "      <td>65.0</td>\n",
       "      <td>1</td>\n",
       "      <td>160</td>\n",
       "      <td>1</td>\n",
       "      <td>20</td>\n",
       "      <td>0</td>\n",
       "      <td>327000.00</td>\n",
       "      <td>2.7</td>\n",
       "      <td>116</td>\n",
       "      <td>0</td>\n",
       "      <td>0</td>\n",
       "      <td>8</td>\n",
       "      <td>1</td>\n",
       "    </tr>\n",
       "  </tbody>\n",
       "</table>\n",
       "</div>"
      ],
      "text/plain": [
       "    age  anaemia  creatinine_phosphokinase  diabetes  ejection_fraction  \\\n",
       "0  75.0        0                       582         0                 20   \n",
       "1  55.0        0                      7861         0                 38   \n",
       "2  65.0        0                       146         0                 20   \n",
       "3  50.0        1                       111         0                 20   \n",
       "4  65.0        1                       160         1                 20   \n",
       "\n",
       "   high_blood_pressure  platelets  serum_creatinine  serum_sodium  sex  \\\n",
       "0                    1  265000.00               1.9           130    1   \n",
       "1                    0  263358.03               1.1           136    1   \n",
       "2                    0  162000.00               1.3           129    1   \n",
       "3                    0  210000.00               1.9           137    1   \n",
       "4                    0  327000.00               2.7           116    0   \n",
       "\n",
       "   smoking  time  DEATH_EVENT  \n",
       "0        0     4            1  \n",
       "1        0     6            1  \n",
       "2        1     7            1  \n",
       "3        0     7            1  \n",
       "4        0     8            1  "
      ]
     },
     "execution_count": 2,
     "metadata": {},
     "output_type": "execute_result"
    }
   ],
   "source": [
    "data = pd.read_csv('/kaggle/input/heart-failure-clinical-data/heart_failure_clinical_records_dataset.csv')\n",
    "data.head()"
   ]
  },
  {
   "cell_type": "markdown",
   "metadata": {
    "papermill": {
     "duration": 0.046753,
     "end_time": "2020-10-15T01:33:47.098507",
     "exception": false,
     "start_time": "2020-10-15T01:33:47.051754",
     "status": "completed"
    },
    "tags": []
   },
   "source": [
    "<h3 style=\"color :red\"> Columns Meaning : </h3>\n",
    "- Age : Age of patient <br></br>\n",
    "- Anemina : 1 if True , 0 if False <br></br>\n",
    "- Diabetes : 1 if True , 0 if False <br></br>\n",
    "- High blood pressure : 1 if True , 0 if False <br></br>\n",
    "- Sex : 1 Male , 0 Female <br></br>\n",
    "- Smoking : 1 if True , 0 if False  <br></br>\n",
    "- Other features are numerical features .\n"
   ]
  },
  {
   "cell_type": "code",
   "execution_count": 3,
   "metadata": {
    "execution": {
     "iopub.execute_input": "2020-10-15T01:33:47.198412Z",
     "iopub.status.busy": "2020-10-15T01:33:47.197501Z",
     "iopub.status.idle": "2020-10-15T01:33:47.200886Z",
     "shell.execute_reply": "2020-10-15T01:33:47.201446Z"
    },
    "papermill": {
     "duration": 0.05609,
     "end_time": "2020-10-15T01:33:47.201585",
     "exception": false,
     "start_time": "2020-10-15T01:33:47.145495",
     "status": "completed"
    },
    "tags": []
   },
   "outputs": [
    {
     "name": "stdout",
     "output_type": "stream",
     "text": [
      "Data Shape is :  (299, 13)\n"
     ]
    }
   ],
   "source": [
    "# data shape\n",
    "print('Data Shape is : ', data.shape)"
   ]
  },
  {
   "cell_type": "code",
   "execution_count": 4,
   "metadata": {
    "execution": {
     "iopub.execute_input": "2020-10-15T01:33:47.304039Z",
     "iopub.status.busy": "2020-10-15T01:33:47.301034Z",
     "iopub.status.idle": "2020-10-15T01:33:47.309199Z",
     "shell.execute_reply": "2020-10-15T01:33:47.308471Z"
    },
    "papermill": {
     "duration": 0.060478,
     "end_time": "2020-10-15T01:33:47.309325",
     "exception": false,
     "start_time": "2020-10-15T01:33:47.248847",
     "status": "completed"
    },
    "tags": []
   },
   "outputs": [
    {
     "data": {
      "text/plain": [
       "age                         0\n",
       "anaemia                     0\n",
       "creatinine_phosphokinase    0\n",
       "diabetes                    0\n",
       "ejection_fraction           0\n",
       "high_blood_pressure         0\n",
       "platelets                   0\n",
       "serum_creatinine            0\n",
       "serum_sodium                0\n",
       "sex                         0\n",
       "smoking                     0\n",
       "time                        0\n",
       "DEATH_EVENT                 0\n",
       "dtype: int64"
      ]
     },
     "execution_count": 4,
     "metadata": {},
     "output_type": "execute_result"
    }
   ],
   "source": [
    "#check null values\n",
    "data.isna().sum()"
   ]
  },
  {
   "cell_type": "code",
   "execution_count": 5,
   "metadata": {
    "execution": {
     "iopub.execute_input": "2020-10-15T01:33:47.414383Z",
     "iopub.status.busy": "2020-10-15T01:33:47.413575Z",
     "iopub.status.idle": "2020-10-15T01:33:48.398792Z",
     "shell.execute_reply": "2020-10-15T01:33:48.399385Z"
    },
    "papermill": {
     "duration": 1.040992,
     "end_time": "2020-10-15T01:33:48.399534",
     "exception": false,
     "start_time": "2020-10-15T01:33:47.358542",
     "status": "completed"
    },
    "tags": []
   },
   "outputs": [
    {
     "data": {
      "text/plain": [
       "<matplotlib.axes._subplots.AxesSubplot at 0x7f1ee7bbd1d0>"
      ]
     },
     "execution_count": 5,
     "metadata": {},
     "output_type": "execute_result"
    },
    {
     "data": {
      "image/png": "[encoded data removed]",
      "text/plain": [
       "<Figure size 864x576 with 2 Axes>"
      ]
     },
     "metadata": {
      "needs_background": "light"
     },
     "output_type": "display_data"
    }
   ],
   "source": [
    "# Features correlation\n",
    "plt.figure(figsize=(12,8))\n",
    "sns.heatmap(data.corr(),annot = True)"
   ]
  },
  {
   "cell_type": "markdown",
   "metadata": {
    "papermill": {
     "duration": 0.051389,
     "end_time": "2020-10-15T01:33:48.502685",
     "exception": false,
     "start_time": "2020-10-15T01:33:48.451296",
     "status": "completed"
    },
    "tags": []
   },
   "source": [
    "- Age , Ejection_fraction , Serum_creatine and time are highly correlated with the target than other features ."
   ]
  },
  {
   "cell_type": "markdown",
   "metadata": {
    "papermill": {
     "duration": 0.051361,
     "end_time": "2020-10-15T01:33:48.606718",
     "exception": false,
     "start_time": "2020-10-15T01:33:48.555357",
     "status": "completed"
    },
    "tags": []
   },
   "source": [
    "We should divide our data to two categories : \n",
    "- Numerical Values \n",
    "- Categorical Values"
   ]
  },
  {
   "cell_type": "code",
   "execution_count": 6,
   "metadata": {
    "execution": {
     "iopub.execute_input": "2020-10-15T01:33:48.734252Z",
     "iopub.status.busy": "2020-10-15T01:33:48.733338Z",
     "iopub.status.idle": "2020-10-15T01:33:48.737872Z",
     "shell.execute_reply": "2020-10-15T01:33:48.737122Z"
    },
    "papermill": {
     "duration": 0.079585,
     "end_time": "2020-10-15T01:33:48.738015",
     "exception": false,
     "start_time": "2020-10-15T01:33:48.658430",
     "status": "completed"
    },
    "tags": []
   },
   "outputs": [
    {
     "name": "stdout",
     "output_type": "stream",
     "text": [
      "['anaemia', 'diabetes', 'high_blood_pressure', 'sex', 'smoking']\n",
      "['age', 'creatinine_phosphokinase', 'ejection_fraction', 'platelets', 'serum_creatinine', 'serum_sodium', 'time']\n"
     ]
    }
   ],
   "source": [
    "def Get_Features_types(data):\n",
    "    categorical_features = []\n",
    "    numerical_features = []\n",
    "    for col in data.iloc[:,:-1]:\n",
    "        if data[col].nunique() < 10:\n",
    "            categorical_features.append(col)\n",
    "        else : \n",
    "            numerical_features.append(col)\n",
    "    return categorical_features , numerical_features\n",
    "\n",
    "Get_Features_types(data)\n",
    "\n",
    "categorical_features = Get_Features_types(data)[0]\n",
    "numerical_features = Get_Features_types(data)[1]\n",
    "\n",
    "print(categorical_features)\n",
    "print(numerical_features)"
   ]
  },
  {
   "cell_type": "markdown",
   "metadata": {
    "papermill": {
     "duration": 0.052089,
     "end_time": "2020-10-15T01:33:48.842195",
     "exception": false,
     "start_time": "2020-10-15T01:33:48.790106",
     "status": "completed"
    },
    "tags": []
   },
   "source": [
    "<h1 style=\"color:red\">Categorical Values</h1>"
   ]
  },
  {
   "cell_type": "code",
   "execution_count": 7,
   "metadata": {
    "execution": {
     "iopub.execute_input": "2020-10-15T01:33:48.971107Z",
     "iopub.status.busy": "2020-10-15T01:33:48.970351Z",
     "iopub.status.idle": "2020-10-15T01:33:49.094206Z",
     "shell.execute_reply": "2020-10-15T01:33:49.093470Z"
    },
    "papermill": {
     "duration": 0.199873,
     "end_time": "2020-10-15T01:33:49.094330",
     "exception": false,
     "start_time": "2020-10-15T01:33:48.894457",
     "status": "completed"
    },
    "tags": []
   },
   "outputs": [
    {
     "data": {
      "text/plain": [
       "<matplotlib.axes._subplots.AxesSubplot at 0x7f1eedb5e110>"
      ]
     },
     "execution_count": 7,
     "metadata": {},
     "output_type": "execute_result"
    },
    {
     "data": {
      "image/png": "[encoded data removed]",
      "text/plain": [
       "<Figure size 432x288 with 1 Axes>"
      ]
     },
     "metadata": {
      "needs_background": "light"
     },
     "output_type": "display_data"
    }
   ],
   "source": [
    "sns.countplot( x = 'DEATH_EVENT' , data = data)"
   ]
  },
  {
   "cell_type": "code",
   "execution_count": 8,
   "metadata": {
    "execution": {
     "iopub.execute_input": "2020-10-15T01:33:49.212689Z",
     "iopub.status.busy": "2020-10-15T01:33:49.211646Z",
     "iopub.status.idle": "2020-10-15T01:33:50.055442Z",
     "shell.execute_reply": "2020-10-15T01:33:50.054625Z"
    },
    "papermill": {
     "duration": 0.907197,
     "end_time": "2020-10-15T01:33:50.055599",
     "exception": false,
     "start_time": "2020-10-15T01:33:49.148402",
     "status": "completed"
    },
    "tags": []
   },
   "outputs": [
    {
     "data": {
      "image/png": "[encoded data removed]",
      "text/plain": [
       "<Figure size 432x288 with 1 Axes>"
      ]
     },
     "metadata": {
      "needs_background": "light"
     },
     "output_type": "display_data"
    },
    {
     "data": {
      "image/png": "[encoded data removed]",
      "text/plain": [
       "<Figure size 432x288 with 1 Axes>"
      ]
     },
     "metadata": {
      "needs_background": "light"
     },
     "output_type": "display_data"
    },
    {
     "data": {
      "image/png": "[encoded data removed]",
      "text/plain": [
       "<Figure size 432x288 with 1 Axes>"
      ]
     },
     "metadata": {
      "needs_background": "light"
     },
     "output_type": "display_data"
    },
    {
     "data": {
      "image/png": "[encoded data removed]",
      "text/plain": [
       "<Figure size 432x288 with 1 Axes>"
      ]
     },
     "metadata": {
      "needs_background": "light"
     },
     "output_type": "display_data"
    },
    {
     "data": {
      "image/png": "[encoded data removed]",
      "text/plain": [
       "<Figure size 432x288 with 1 Axes>"
      ]
     },
     "metadata": {
      "needs_background": "light"
     },
     "output_type": "display_data"
    }
   ],
   "source": [
    "def CountPlot_hue_Categorical_data(data):\n",
    "    for feature in categorical_features:\n",
    "        plt.figure()\n",
    "        sns.countplot(x = \"DEATH_EVENT\" , data = data , hue=feature)\n",
    "        plt.title(feature)\n",
    "\n",
    "CountPlot_hue_Categorical_data(data)"
   ]
  },
  {
   "cell_type": "code",
   "execution_count": 9,
   "metadata": {
    "execution": {
     "iopub.execute_input": "2020-10-15T01:33:50.219173Z",
     "iopub.status.busy": "2020-10-15T01:33:50.218342Z",
     "iopub.status.idle": "2020-10-15T01:33:50.233443Z",
     "shell.execute_reply": "2020-10-15T01:33:50.232702Z"
    },
    "papermill": {
     "duration": 0.110137,
     "end_time": "2020-10-15T01:33:50.233564",
     "exception": false,
     "start_time": "2020-10-15T01:33:50.123427",
     "status": "completed"
    },
    "tags": []
   },
   "outputs": [
    {
     "data": {
      "text/html": [
       "<div>\n",
       "<style scoped>\n",
       "    .dataframe tbody tr th:only-of-type {\n",
       "        vertical-align: middle;\n",
       "    }\n",
       "\n",
       "    .dataframe tbody tr th {\n",
       "        vertical-align: top;\n",
       "    }\n",
       "\n",
       "    .dataframe thead th {\n",
       "        text-align: right;\n",
       "    }\n",
       "</style>\n",
       "<table border=\"1\" class=\"dataframe\">\n",
       "  <thead>\n",
       "    <tr style=\"text-align: right;\">\n",
       "      <th></th>\n",
       "      <th>% Percentage Death (IF 1)</th>\n",
       "      <th>% Percentage Death (IF 0)</th>\n",
       "    </tr>\n",
       "  </thead>\n",
       "  <tbody>\n",
       "    <tr>\n",
       "      <th>anaemia</th>\n",
       "      <td>35.66</td>\n",
       "      <td>29.41</td>\n",
       "    </tr>\n",
       "    <tr>\n",
       "      <th>diabetes</th>\n",
       "      <td>32.00</td>\n",
       "      <td>32.18</td>\n",
       "    </tr>\n",
       "    <tr>\n",
       "      <th>high_blood_pressure</th>\n",
       "      <td>37.14</td>\n",
       "      <td>29.38</td>\n",
       "    </tr>\n",
       "    <tr>\n",
       "      <th>sex</th>\n",
       "      <td>31.96</td>\n",
       "      <td>32.38</td>\n",
       "    </tr>\n",
       "    <tr>\n",
       "      <th>smoking</th>\n",
       "      <td>31.25</td>\n",
       "      <td>32.51</td>\n",
       "    </tr>\n",
       "  </tbody>\n",
       "</table>\n",
       "</div>"
      ],
      "text/plain": [
       "                     % Percentage Death (IF 1)  % Percentage Death (IF 0)\n",
       "anaemia                                  35.66                      29.41\n",
       "diabetes                                 32.00                      32.18\n",
       "high_blood_pressure                      37.14                      29.38\n",
       "sex                                      31.96                      32.38\n",
       "smoking                                  31.25                      32.51"
      ]
     },
     "execution_count": 9,
     "metadata": {},
     "output_type": "execute_result"
    }
   ],
   "source": [
    "def Get_Percentage_data(data):\n",
    "    percentage_death_true_case = []\n",
    "    percentage_death_false_case = []\n",
    "    for col in categorical_features:\n",
    "        true_case = round(data['DEATH_EVENT'][data[col] == 1].value_counts(normalize = True)[1] * 100 , 2)\n",
    "        false_case = round(data['DEATH_EVENT'][data[col] == 0].value_counts(normalize = True)[1] * 100,2)\n",
    "        percentage_death_true_case.append(true_case)\n",
    "        percentage_death_false_case.append(false_case)\n",
    "    Percentage = pd.DataFrame(list(zip(percentage_death_true_case , percentage_death_false_case)) ,\n",
    "                              index = categorical_features ,\n",
    "                              columns = ['% Percentage Death (IF 1)' , '% Percentage Death (IF 0)'])\n",
    "    return Percentage\n",
    "        \n",
    "Get_Percentage_data(data)"
   ]
  },
  {
   "cell_type": "markdown",
   "metadata": {
    "papermill": {
     "duration": 0.065031,
     "end_time": "2020-10-15T01:33:50.356674",
     "exception": false,
     "start_time": "2020-10-15T01:33:50.291643",
     "status": "completed"
    },
    "tags": []
   },
   "source": [
    "This data can show : \n",
    "-  People who smoke has a percentage of death (31,25 ) , otherwise peole who don't has a percentage of death ( 32,51) [so strange seriously]\n",
    "- Percentage of Men's death is roughly equivalent to women's death ( Same for poeple who has diabetes).\n",
    "- In High blood pressure and Amenia  , we can see obviously a little difference between percentage of death ( IF True)\n"
   ]
  },
  {
   "cell_type": "markdown",
   "metadata": {
    "papermill": {
     "duration": 0.058159,
     "end_time": "2020-10-15T01:33:50.473468",
     "exception": false,
     "start_time": "2020-10-15T01:33:50.415309",
     "status": "completed"
    },
    "tags": []
   },
   "source": [
    "<h1 style=\"color:red\">Numerical Values</h1>"
   ]
  },
  {
   "cell_type": "code",
   "execution_count": 10,
   "metadata": {
    "execution": {
     "iopub.execute_input": "2020-10-15T01:33:50.597018Z",
     "iopub.status.busy": "2020-10-15T01:33:50.595968Z",
     "iopub.status.idle": "2020-10-15T01:33:50.599442Z",
     "shell.execute_reply": "2020-10-15T01:33:50.598831Z"
    },
    "papermill": {
     "duration": 0.067013,
     "end_time": "2020-10-15T01:33:50.599563",
     "exception": false,
     "start_time": "2020-10-15T01:33:50.532550",
     "status": "completed"
    },
    "tags": []
   },
   "outputs": [],
   "source": [
    "def BOX_Plot_numerical_features(data):\n",
    "    for col in numerical_features:\n",
    "        plt.figure()\n",
    "        sns.boxplot(data[col])"
   ]
  },
  {
   "cell_type": "code",
   "execution_count": 11,
   "metadata": {
    "execution": {
     "iopub.execute_input": "2020-10-15T01:33:50.727697Z",
     "iopub.status.busy": "2020-10-15T01:33:50.726603Z",
     "iopub.status.idle": "2020-10-15T01:33:51.524427Z",
     "shell.execute_reply": "2020-10-15T01:33:51.523860Z"
    },
    "papermill": {
     "duration": 0.866834,
     "end_time": "2020-10-15T01:33:51.524546",
     "exception": false,
     "start_time": "2020-10-15T01:33:50.657712",
     "status": "completed"
    },
    "tags": []
   },
   "outputs": [
    {
     "data": {
      "image/png": "[encoded data removed]",
      "text/plain": [
       "<Figure size 432x288 with 1 Axes>"
      ]
     },
     "metadata": {
      "needs_background": "light"
     },
     "output_type": "display_data"
    },
    {
     "data": {
      "image/png": "[encoded data removed]",
      "text/plain": [
       "<Figure size 432x288 with 1 Axes>"
      ]
     },
     "metadata": {
      "needs_background": "light"
     },
     "output_type": "display_data"
    },
    {
     "data": {
      "image/png": "[encoded data removed]",
      "text/plain": [
       "<Figure size 432x288 with 1 Axes>"
      ]
     },
     "metadata": {
      "needs_background": "light"
     },
     "output_type": "display_data"
    },
    {
     "data": {
      "image/png": "[encoded data removed]",
      "text/plain": [
       "<Figure size 432x288 with 1 Axes>"
      ]
     },
     "metadata": {
      "needs_background": "light"
     },
     "output_type": "display_data"
    },
    {
     "data": {
      "image/png": "[encoded data removed]",
      "text/plain": [
       "<Figure size 432x288 with 1 Axes>"
      ]
     },
     "metadata": {
      "needs_background": "light"
     },
     "output_type": "display_data"
    },
    {
     "data": {
      "image/png": "[encoded data removed]",
      "text/plain": [
       "<Figure size 432x288 with 1 Axes>"
      ]
     },
     "metadata": {
      "needs_background": "light"
     },
     "output_type": "display_data"
    },
    {
     "data": {
      "image/png": "[encoded data removed]",
      "text/plain": [
       "<Figure size 432x288 with 1 Axes>"
      ]
     },
     "metadata": {
      "needs_background": "light"
     },
     "output_type": "display_data"
    }
   ],
   "source": [
    "BOX_Plot_numerical_features(data)"
   ]
  },
  {
   "cell_type": "code",
   "execution_count": 12,
   "metadata": {
    "execution": {
     "iopub.execute_input": "2020-10-15T01:33:51.658010Z",
     "iopub.status.busy": "2020-10-15T01:33:51.657174Z",
     "iopub.status.idle": "2020-10-15T01:33:51.661528Z",
     "shell.execute_reply": "2020-10-15T01:33:51.660919Z"
    },
    "papermill": {
     "duration": 0.073003,
     "end_time": "2020-10-15T01:33:51.661654",
     "exception": false,
     "start_time": "2020-10-15T01:33:51.588651",
     "status": "completed"
    },
    "tags": []
   },
   "outputs": [
    {
     "name": "stdout",
     "output_type": "stream",
     "text": [
      "Numerical Features are  ['age', 'creatinine_phosphokinase', 'ejection_fraction', 'platelets', 'serum_creatinine', 'serum_sodium', 'time']\n"
     ]
    }
   ],
   "source": [
    "print(\"Numerical Features are \" , numerical_features)"
   ]
  },
  {
   "cell_type": "markdown",
   "metadata": {
    "papermill": {
     "duration": 0.063374,
     "end_time": "2020-10-15T01:33:51.789127",
     "exception": false,
     "start_time": "2020-10-15T01:33:51.725753",
     "status": "completed"
    },
    "tags": []
   },
   "source": [
    "Drawing box plot can show many details : \n",
    "- Detecting outliers in ejection_fraction ( we will drop them ) \n",
    "- No outliers in features like : Age and time \n",
    "- In Medical fields , values for features : <br></br>\n",
    "    Creatinine_phosphokinase <br></br> Platelets <br></br> Serum_creatinine <br></br>Serum_sodium <br></br>are possibles in range of values , so we will keep them in order to have a reasonable prediction \n"
   ]
  },
  {
   "cell_type": "code",
   "execution_count": 13,
   "metadata": {
    "execution": {
     "iopub.execute_input": "2020-10-15T01:33:51.934412Z",
     "iopub.status.busy": "2020-10-15T01:33:51.933289Z",
     "iopub.status.idle": "2020-10-15T01:33:51.937766Z",
     "shell.execute_reply": "2020-10-15T01:33:51.937019Z"
    },
    "papermill": {
     "duration": 0.084694,
     "end_time": "2020-10-15T01:33:51.937917",
     "exception": false,
     "start_time": "2020-10-15T01:33:51.853223",
     "status": "completed"
    },
    "tags": []
   },
   "outputs": [
    {
     "data": {
      "text/html": [
       "<div>\n",
       "<style scoped>\n",
       "    .dataframe tbody tr th:only-of-type {\n",
       "        vertical-align: middle;\n",
       "    }\n",
       "\n",
       "    .dataframe tbody tr th {\n",
       "        vertical-align: top;\n",
       "    }\n",
       "\n",
       "    .dataframe thead th {\n",
       "        text-align: right;\n",
       "    }\n",
       "</style>\n",
       "<table border=\"1\" class=\"dataframe\">\n",
       "  <thead>\n",
       "    <tr style=\"text-align: right;\">\n",
       "      <th></th>\n",
       "      <th>age</th>\n",
       "      <th>anaemia</th>\n",
       "      <th>creatinine_phosphokinase</th>\n",
       "      <th>diabetes</th>\n",
       "      <th>ejection_fraction</th>\n",
       "      <th>high_blood_pressure</th>\n",
       "      <th>platelets</th>\n",
       "      <th>serum_creatinine</th>\n",
       "      <th>serum_sodium</th>\n",
       "      <th>sex</th>\n",
       "      <th>smoking</th>\n",
       "      <th>time</th>\n",
       "      <th>DEATH_EVENT</th>\n",
       "    </tr>\n",
       "  </thead>\n",
       "  <tbody>\n",
       "    <tr>\n",
       "      <th>64</th>\n",
       "      <td>45.0</td>\n",
       "      <td>0</td>\n",
       "      <td>582</td>\n",
       "      <td>0</td>\n",
       "      <td>80</td>\n",
       "      <td>0</td>\n",
       "      <td>263358.03</td>\n",
       "      <td>1.18</td>\n",
       "      <td>137</td>\n",
       "      <td>0</td>\n",
       "      <td>0</td>\n",
       "      <td>63</td>\n",
       "      <td>0</td>\n",
       "    </tr>\n",
       "    <tr>\n",
       "      <th>217</th>\n",
       "      <td>54.0</td>\n",
       "      <td>1</td>\n",
       "      <td>427</td>\n",
       "      <td>0</td>\n",
       "      <td>70</td>\n",
       "      <td>1</td>\n",
       "      <td>151000.00</td>\n",
       "      <td>9.00</td>\n",
       "      <td>137</td>\n",
       "      <td>0</td>\n",
       "      <td>0</td>\n",
       "      <td>196</td>\n",
       "      <td>1</td>\n",
       "    </tr>\n",
       "  </tbody>\n",
       "</table>\n",
       "</div>"
      ],
      "text/plain": [
       "      age  anaemia  creatinine_phosphokinase  diabetes  ejection_fraction  \\\n",
       "64   45.0        0                       582         0                 80   \n",
       "217  54.0        1                       427         0                 70   \n",
       "\n",
       "     high_blood_pressure  platelets  serum_creatinine  serum_sodium  sex  \\\n",
       "64                     0  263358.03              1.18           137    0   \n",
       "217                    1  151000.00              9.00           137    0   \n",
       "\n",
       "     smoking  time  DEATH_EVENT  \n",
       "64         0    63            0  \n",
       "217        0   196            1  "
      ]
     },
     "execution_count": 13,
     "metadata": {},
     "output_type": "execute_result"
    }
   ],
   "source": [
    "data[data['ejection_fraction'] > 65]"
   ]
  },
  {
   "cell_type": "code",
   "execution_count": 14,
   "metadata": {
    "execution": {
     "iopub.execute_input": "2020-10-15T01:33:52.081619Z",
     "iopub.status.busy": "2020-10-15T01:33:52.077180Z",
     "iopub.status.idle": "2020-10-15T01:33:52.310313Z",
     "shell.execute_reply": "2020-10-15T01:33:52.309558Z"
    },
    "papermill": {
     "duration": 0.306559,
     "end_time": "2020-10-15T01:33:52.310435",
     "exception": false,
     "start_time": "2020-10-15T01:33:52.003876",
     "status": "completed"
    },
    "tags": []
   },
   "outputs": [
    {
     "data": {
      "text/plain": [
       "<matplotlib.legend.Legend at 0x7f1edf417390>"
      ]
     },
     "execution_count": 14,
     "metadata": {},
     "output_type": "execute_result"
    },
    {
     "data": {
      "image/png": "[encoded data removed]",
      "text/plain": [
       "<Figure size 432x288 with 1 Axes>"
      ]
     },
     "metadata": {
      "needs_background": "light"
     },
     "output_type": "display_data"
    }
   ],
   "source": [
    "## Age \n",
    "sns.distplot(data[data['DEATH_EVENT'] == 0]['age'] , label =\"Death\")\n",
    "sns.distplot(data[data['DEATH_EVENT'] == 1]['age'] , label = \"Survived\")\n",
    "plt.legend()"
   ]
  },
  {
   "cell_type": "markdown",
   "metadata": {
    "papermill": {
     "duration": 0.066197,
     "end_time": "2020-10-15T01:33:52.444081",
     "exception": false,
     "start_time": "2020-10-15T01:33:52.377884",
     "status": "completed"
    },
    "tags": []
   },
   "source": [
    "We can see here that people with under than 70 have a probability of surviving more than death  ."
   ]
  },
  {
   "cell_type": "code",
   "execution_count": 15,
   "metadata": {
    "execution": {
     "iopub.execute_input": "2020-10-15T01:33:52.592236Z",
     "iopub.status.busy": "2020-10-15T01:33:52.586531Z",
     "iopub.status.idle": "2020-10-15T01:33:52.860486Z",
     "shell.execute_reply": "2020-10-15T01:33:52.859868Z"
    },
    "papermill": {
     "duration": 0.350155,
     "end_time": "2020-10-15T01:33:52.860617",
     "exception": false,
     "start_time": "2020-10-15T01:33:52.510462",
     "status": "completed"
    },
    "tags": []
   },
   "outputs": [
    {
     "name": "stdout",
     "output_type": "stream",
     "text": [
      "0    164\n",
      "1     58\n",
      "Name: DEATH_EVENT, dtype: int64\n"
     ]
    },
    {
     "data": {
      "image/png": "[encoded data removed]",
      "text/plain": [
       "<Figure size 432x288 with 1 Axes>"
      ]
     },
     "metadata": {
      "needs_background": "light"
     },
     "output_type": "display_data"
    },
    {
     "name": "stdout",
     "output_type": "stream",
     "text": [
      "1    31\n",
      "0    21\n",
      "Name: DEATH_EVENT, dtype: int64\n"
     ]
    },
    {
     "data": {
      "image/png": "[encoded data removed]",
      "text/plain": [
       "<Figure size 432x288 with 1 Axes>"
      ]
     },
     "metadata": {
      "needs_background": "light"
     },
     "output_type": "display_data"
    }
   ],
   "source": [
    "plt.figure()\n",
    "sns.countplot(data[(data['age'] < 70)]['DEATH_EVENT'])\n",
    "print(data[(data['age'] < 70)]['DEATH_EVENT'].value_counts())\n",
    "plt.title(\"Age Under than 70\")\n",
    "plt.show()\n",
    "####\n",
    "plt.figure()\n",
    "sns.countplot(data[(data['age'] > 70)]['DEATH_EVENT'])\n",
    "print(data[(data['age'] > 70)]['DEATH_EVENT'].value_counts())\n",
    "plt.title(\"Age Higher than 70\")\n",
    "plt.show()"
   ]
  },
  {
   "cell_type": "code",
   "execution_count": 16,
   "metadata": {
    "execution": {
     "iopub.execute_input": "2020-10-15T01:33:53.012468Z",
     "iopub.status.busy": "2020-10-15T01:33:53.006329Z",
     "iopub.status.idle": "2020-10-15T01:33:53.379380Z",
     "shell.execute_reply": "2020-10-15T01:33:53.378745Z"
    },
    "papermill": {
     "duration": 0.449808,
     "end_time": "2020-10-15T01:33:53.379499",
     "exception": false,
     "start_time": "2020-10-15T01:33:52.929691",
     "status": "completed"
    },
    "tags": []
   },
   "outputs": [
    {
     "data": {
      "text/plain": [
       "<matplotlib.legend.Legend at 0x7f1edf4985d0>"
      ]
     },
     "execution_count": 16,
     "metadata": {},
     "output_type": "execute_result"
    },
    {
     "data": {
      "image/png": "[encoded data removed]",
      "text/plain": [
       "<Figure size 432x288 with 1 Axes>"
      ]
     },
     "metadata": {
      "needs_background": "light"
     },
     "output_type": "display_data"
    }
   ],
   "source": [
    "## Creatinine_phosphokinase\n",
    "sns.distplot(data[data['DEATH_EVENT'] == 0]['creatinine_phosphokinase'] , label =\"Death\")\n",
    "sns.distplot(data[data['DEATH_EVENT'] == 1]['creatinine_phosphokinase'] , label = \"Survived\")\n",
    "plt.legend()"
   ]
  },
  {
   "cell_type": "code",
   "execution_count": 17,
   "metadata": {
    "execution": {
     "iopub.execute_input": "2020-10-15T01:33:53.536912Z",
     "iopub.status.busy": "2020-10-15T01:33:53.529142Z",
     "iopub.status.idle": "2020-10-15T01:33:53.826784Z",
     "shell.execute_reply": "2020-10-15T01:33:53.826163Z"
    },
    "papermill": {
     "duration": 0.376504,
     "end_time": "2020-10-15T01:33:53.826928",
     "exception": false,
     "start_time": "2020-10-15T01:33:53.450424",
     "status": "completed"
    },
    "tags": []
   },
   "outputs": [
    {
     "data": {
      "text/plain": [
       "<matplotlib.legend.Legend at 0x7f1edf1f4310>"
      ]
     },
     "execution_count": 17,
     "metadata": {},
     "output_type": "execute_result"
    },
    {
     "data": {
      "image/png": "[encoded data removed]",
      "text/plain": [
       "<Figure size 432x288 with 1 Axes>"
      ]
     },
     "metadata": {
      "needs_background": "light"
     },
     "output_type": "display_data"
    }
   ],
   "source": [
    "## Platelets\n",
    "sns.distplot(data[data['DEATH_EVENT'] == 0]['platelets'] , label =\"Death\")\n",
    "sns.distplot(data[data['DEATH_EVENT'] == 1]['platelets'] , label = \"Survived\")\n",
    "plt.legend()"
   ]
  },
  {
   "cell_type": "code",
   "execution_count": 18,
   "metadata": {
    "execution": {
     "iopub.execute_input": "2020-10-15T01:33:54.096962Z",
     "iopub.status.busy": "2020-10-15T01:33:53.984626Z",
     "iopub.status.idle": "2020-10-15T01:33:54.477419Z",
     "shell.execute_reply": "2020-10-15T01:33:54.476679Z"
    },
    "papermill": {
     "duration": 0.578516,
     "end_time": "2020-10-15T01:33:54.477540",
     "exception": false,
     "start_time": "2020-10-15T01:33:53.899024",
     "status": "completed"
    },
    "tags": []
   },
   "outputs": [
    {
     "data": {
      "text/plain": [
       "<matplotlib.legend.Legend at 0x7f1edf0d2910>"
      ]
     },
     "execution_count": 18,
     "metadata": {},
     "output_type": "execute_result"
    },
    {
     "data": {
      "image/png": "[encoded data removed]",
      "text/plain": [
       "<Figure size 432x288 with 1 Axes>"
      ]
     },
     "metadata": {
      "needs_background": "light"
     },
     "output_type": "display_data"
    }
   ],
   "source": [
    "## Serum_creatinine\n",
    "sns.distplot(data[data['DEATH_EVENT'] == 0]['serum_creatinine'] , label =\"Death\")\n",
    "sns.distplot(data[data['DEATH_EVENT'] == 1]['serum_creatinine'] , label = \"Survived\")\n",
    "plt.legend()"
   ]
  },
  {
   "cell_type": "code",
   "execution_count": 19,
   "metadata": {
    "execution": {
     "iopub.execute_input": "2020-10-15T01:33:54.640603Z",
     "iopub.status.busy": "2020-10-15T01:33:54.639306Z",
     "iopub.status.idle": "2020-10-15T01:33:54.917959Z",
     "shell.execute_reply": "2020-10-15T01:33:54.918498Z"
    },
    "papermill": {
     "duration": 0.367426,
     "end_time": "2020-10-15T01:33:54.918661",
     "exception": false,
     "start_time": "2020-10-15T01:33:54.551235",
     "status": "completed"
    },
    "tags": []
   },
   "outputs": [
    {
     "data": {
      "text/plain": [
       "<matplotlib.legend.Legend at 0x7f1edf34fe10>"
      ]
     },
     "execution_count": 19,
     "metadata": {},
     "output_type": "execute_result"
    },
    {
     "data": {
      "image/png": "[encoded data removed]",
      "text/plain": [
       "<Figure size 432x288 with 1 Axes>"
      ]
     },
     "metadata": {
      "needs_background": "light"
     },
     "output_type": "display_data"
    }
   ],
   "source": [
    "## Serum_sodium\n",
    "sns.distplot(data[data['DEATH_EVENT'] == 0]['serum_sodium'] , label =\"Death\")\n",
    "sns.distplot(data[data['DEATH_EVENT'] == 1]['serum_sodium'] , label = \"Survived\")\n",
    "plt.legend()"
   ]
  },
  {
   "cell_type": "code",
   "execution_count": 20,
   "metadata": {
    "execution": {
     "iopub.execute_input": "2020-10-15T01:33:55.083395Z",
     "iopub.status.busy": "2020-10-15T01:33:55.079182Z",
     "iopub.status.idle": "2020-10-15T01:33:55.298374Z",
     "shell.execute_reply": "2020-10-15T01:33:55.297620Z"
    },
    "papermill": {
     "duration": 0.303746,
     "end_time": "2020-10-15T01:33:55.298495",
     "exception": false,
     "start_time": "2020-10-15T01:33:54.994749",
     "status": "completed"
    },
    "tags": []
   },
   "outputs": [
    {
     "data": {
      "text/plain": [
       "<matplotlib.legend.Legend at 0x7f1edf464150>"
      ]
     },
     "execution_count": 20,
     "metadata": {},
     "output_type": "execute_result"
    },
    {
     "data": {
      "image/png": "[encoded data removed]",
      "text/plain": [
       "<Figure size 432x288 with 1 Axes>"
      ]
     },
     "metadata": {
      "needs_background": "light"
     },
     "output_type": "display_data"
    }
   ],
   "source": [
    "# Time\n",
    "sns.distplot(data[data['DEATH_EVENT'] == 0]['time'] , label =\"Death\")\n",
    "sns.distplot(data[data['DEATH_EVENT'] == 1]['time'] , label = \"Survived\")\n",
    "plt.legend()"
   ]
  },
  {
   "cell_type": "markdown",
   "metadata": {
    "papermill": {
     "duration": 0.077328,
     "end_time": "2020-10-15T01:33:55.458393",
     "exception": false,
     "start_time": "2020-10-15T01:33:55.381065",
     "status": "completed"
    },
    "tags": []
   },
   "source": [
    "it's obivious that people more than a follow-up period (days) more than 90 have a probalibity of surviving more than death .\n"
   ]
  },
  {
   "cell_type": "code",
   "execution_count": 21,
   "metadata": {
    "execution": {
     "iopub.execute_input": "2020-10-15T01:33:55.632617Z",
     "iopub.status.busy": "2020-10-15T01:33:55.625699Z",
     "iopub.status.idle": "2020-10-15T01:33:55.886349Z",
     "shell.execute_reply": "2020-10-15T01:33:55.885612Z"
    },
    "papermill": {
     "duration": 0.35083,
     "end_time": "2020-10-15T01:33:55.886468",
     "exception": false,
     "start_time": "2020-10-15T01:33:55.535638",
     "status": "completed"
    },
    "tags": []
   },
   "outputs": [
    {
     "name": "stdout",
     "output_type": "stream",
     "text": [
      "0    158\n",
      "1     27\n",
      "Name: DEATH_EVENT, dtype: int64\n"
     ]
    },
    {
     "data": {
      "image/png": "[encoded data removed]",
      "text/plain": [
       "<Figure size 432x288 with 1 Axes>"
      ]
     },
     "metadata": {
      "needs_background": "light"
     },
     "output_type": "display_data"
    },
    {
     "name": "stdout",
     "output_type": "stream",
     "text": [
      "1    67\n",
      "0    43\n",
      "Name: DEATH_EVENT, dtype: int64\n"
     ]
    },
    {
     "data": {
      "image/png": "[encoded data removed]",
      "text/plain": [
       "<Figure size 432x288 with 1 Axes>"
      ]
     },
     "metadata": {
      "needs_background": "light"
     },
     "output_type": "display_data"
    }
   ],
   "source": [
    "plt.figure()\n",
    "sns.countplot(data[data['time'] > 90]['DEATH_EVENT'])\n",
    "print(data[data['time'] > 90]['DEATH_EVENT'].value_counts())\n",
    "plt.title(\"Time Higher than 90\")\n",
    "plt.show()\n",
    "####\n",
    "plt.figure()\n",
    "sns.countplot(data[data['time'] < 90]['DEATH_EVENT'])\n",
    "print(data[data['time'] < 90]['DEATH_EVENT'].value_counts())\n",
    "plt.title(\"Time lower than 90\")\n",
    "plt.show()\n"
   ]
  },
  {
   "cell_type": "markdown",
   "metadata": {
    "papermill": {
     "duration": 0.080471,
     "end_time": "2020-10-15T01:33:56.047304",
     "exception": false,
     "start_time": "2020-10-15T01:33:55.966833",
     "status": "completed"
    },
    "tags": []
   },
   "source": [
    "\n"
   ]
  },
  {
   "cell_type": "code",
   "execution_count": 22,
   "metadata": {
    "execution": {
     "iopub.execute_input": "2020-10-15T01:33:56.221598Z",
     "iopub.status.busy": "2020-10-15T01:33:56.216659Z",
     "iopub.status.idle": "2020-10-15T01:33:56.472453Z",
     "shell.execute_reply": "2020-10-15T01:33:56.471846Z"
    },
    "papermill": {
     "duration": 0.344496,
     "end_time": "2020-10-15T01:33:56.472576",
     "exception": false,
     "start_time": "2020-10-15T01:33:56.128080",
     "status": "completed"
    },
    "tags": []
   },
   "outputs": [
    {
     "data": {
      "text/plain": [
       "<matplotlib.legend.Legend at 0x7f1ee736c110>"
      ]
     },
     "execution_count": 22,
     "metadata": {},
     "output_type": "execute_result"
    },
    {
     "data": {
      "image/png": "[encoded data removed]",
      "text/plain": [
       "<Figure size 432x288 with 1 Axes>"
      ]
     },
     "metadata": {
      "needs_background": "light"
     },
     "output_type": "display_data"
    }
   ],
   "source": [
    "# Ejection_fraction\n",
    "sns.distplot(data[data['DEATH_EVENT'] == 0]['ejection_fraction'] , label =\"Death\")\n",
    "sns.distplot(data[data['DEATH_EVENT'] == 1]['ejection_fraction'] , label = \"Survived\")\n",
    "plt.legend()"
   ]
  },
  {
   "cell_type": "markdown",
   "metadata": {
    "papermill": {
     "duration": 0.081706,
     "end_time": "2020-10-15T01:33:56.635730",
     "exception": false,
     "start_time": "2020-10-15T01:33:56.554024",
     "status": "completed"
    },
    "tags": []
   },
   "source": [
    "People with ejection fracrtion more than 30 have a probability of surviving more than death ."
   ]
  },
  {
   "cell_type": "code",
   "execution_count": 23,
   "metadata": {
    "execution": {
     "iopub.execute_input": "2020-10-15T01:33:56.817614Z",
     "iopub.status.busy": "2020-10-15T01:33:56.809216Z",
     "iopub.status.idle": "2020-10-15T01:33:57.067320Z",
     "shell.execute_reply": "2020-10-15T01:33:57.066538Z"
    },
    "papermill": {
     "duration": 0.350493,
     "end_time": "2020-10-15T01:33:57.067447",
     "exception": false,
     "start_time": "2020-10-15T01:33:56.716954",
     "status": "completed"
    },
    "tags": []
   },
   "outputs": [
    {
     "name": "stdout",
     "output_type": "stream",
     "text": [
      "0    182\n",
      "1     58\n",
      "Name: DEATH_EVENT, dtype: int64\n"
     ]
    },
    {
     "data": {
      "image/png": "[encoded data removed]",
      "text/plain": [
       "<Figure size 432x288 with 1 Axes>"
      ]
     },
     "metadata": {
      "needs_background": "light"
     },
     "output_type": "display_data"
    },
    {
     "name": "stdout",
     "output_type": "stream",
     "text": [
      "1    38\n",
      "0    21\n",
      "Name: DEATH_EVENT, dtype: int64\n"
     ]
    },
    {
     "data": {
      "image/png": "[encoded data removed]",
      "text/plain": [
       "<Figure size 432x288 with 1 Axes>"
      ]
     },
     "metadata": {
      "needs_background": "light"
     },
     "output_type": "display_data"
    }
   ],
   "source": [
    "sns.countplot(data[data['ejection_fraction'] > 28]['DEATH_EVENT'])\n",
    "print(data[data['ejection_fraction'] > 28]['DEATH_EVENT'].value_counts())\n",
    "plt.title(\"Ejection Fraction more than 30\")\n",
    "plt.show()\n",
    "#####\n",
    "sns.countplot(data[data['ejection_fraction'] < 30]['DEATH_EVENT'])\n",
    "print(data[data['ejection_fraction'] < 30]['DEATH_EVENT'].value_counts())\n",
    "plt.title(\"Ejection Fraction lower than 30\")\n",
    "plt.show()"
   ]
  },
  {
   "cell_type": "markdown",
   "metadata": {
    "papermill": {
     "duration": 0.083722,
     "end_time": "2020-10-15T01:33:57.236202",
     "exception": false,
     "start_time": "2020-10-15T01:33:57.152480",
     "status": "completed"
    },
    "tags": []
   },
   "source": [
    "<h1 style=\"color:red\">Feature Engineering</h1>"
   ]
  },
  {
   "cell_type": "markdown",
   "metadata": {
    "papermill": {
     "duration": 0.084133,
     "end_time": "2020-10-15T01:33:57.404907",
     "exception": false,
     "start_time": "2020-10-15T01:33:57.320774",
     "status": "completed"
    },
    "tags": []
   },
   "source": [
    "- Using domain knowledge to extract features from raw data via data mining techniques is one of the best typical methods to improve our model "
   ]
  },
  {
   "cell_type": "code",
   "execution_count": 24,
   "metadata": {
    "execution": {
     "iopub.execute_input": "2020-10-15T01:33:57.578793Z",
     "iopub.status.busy": "2020-10-15T01:33:57.578078Z",
     "iopub.status.idle": "2020-10-15T01:33:57.581762Z",
     "shell.execute_reply": "2020-10-15T01:33:57.581058Z"
    },
    "papermill": {
     "duration": 0.092883,
     "end_time": "2020-10-15T01:33:57.581906",
     "exception": false,
     "start_time": "2020-10-15T01:33:57.489023",
     "status": "completed"
    },
    "tags": []
   },
   "outputs": [],
   "source": [
    "data_copy= data.copy()"
   ]
  },
  {
   "cell_type": "code",
   "execution_count": 25,
   "metadata": {
    "execution": {
     "iopub.execute_input": "2020-10-15T01:33:57.760207Z",
     "iopub.status.busy": "2020-10-15T01:33:57.759273Z",
     "iopub.status.idle": "2020-10-15T01:33:57.762347Z",
     "shell.execute_reply": "2020-10-15T01:33:57.761646Z"
    },
    "papermill": {
     "duration": 0.095727,
     "end_time": "2020-10-15T01:33:57.762462",
     "exception": false,
     "start_time": "2020-10-15T01:33:57.666735",
     "status": "completed"
    },
    "tags": []
   },
   "outputs": [],
   "source": [
    "data_copy['platelets/age'] = data['platelets'] / data['age']\n",
    "data_copy['time/age'] = data['time'] / data['age']\n"
   ]
  },
  {
   "cell_type": "code",
   "execution_count": 26,
   "metadata": {
    "execution": {
     "iopub.execute_input": "2020-10-15T01:33:57.950972Z",
     "iopub.status.busy": "2020-10-15T01:33:57.949881Z",
     "iopub.status.idle": "2020-10-15T01:33:57.954546Z",
     "shell.execute_reply": "2020-10-15T01:33:57.953939Z"
    },
    "papermill": {
     "duration": 0.107703,
     "end_time": "2020-10-15T01:33:57.954679",
     "exception": false,
     "start_time": "2020-10-15T01:33:57.846976",
     "status": "completed"
    },
    "tags": []
   },
   "outputs": [
    {
     "data": {
      "text/html": [
       "<div>\n",
       "<style scoped>\n",
       "    .dataframe tbody tr th:only-of-type {\n",
       "        vertical-align: middle;\n",
       "    }\n",
       "\n",
       "    .dataframe tbody tr th {\n",
       "        vertical-align: top;\n",
       "    }\n",
       "\n",
       "    .dataframe thead th {\n",
       "        text-align: right;\n",
       "    }\n",
       "</style>\n",
       "<table border=\"1\" class=\"dataframe\">\n",
       "  <thead>\n",
       "    <tr style=\"text-align: right;\">\n",
       "      <th></th>\n",
       "      <th>age</th>\n",
       "      <th>anaemia</th>\n",
       "      <th>creatinine_phosphokinase</th>\n",
       "      <th>diabetes</th>\n",
       "      <th>ejection_fraction</th>\n",
       "      <th>high_blood_pressure</th>\n",
       "      <th>serum_creatinine</th>\n",
       "      <th>serum_sodium</th>\n",
       "      <th>sex</th>\n",
       "      <th>smoking</th>\n",
       "      <th>DEATH_EVENT</th>\n",
       "      <th>platelets/age</th>\n",
       "      <th>time/age</th>\n",
       "    </tr>\n",
       "  </thead>\n",
       "  <tbody>\n",
       "    <tr>\n",
       "      <th>0</th>\n",
       "      <td>75.0</td>\n",
       "      <td>0</td>\n",
       "      <td>582</td>\n",
       "      <td>0</td>\n",
       "      <td>20</td>\n",
       "      <td>1</td>\n",
       "      <td>1.9</td>\n",
       "      <td>130</td>\n",
       "      <td>1</td>\n",
       "      <td>0</td>\n",
       "      <td>1</td>\n",
       "      <td>3533.333333</td>\n",
       "      <td>0.053333</td>\n",
       "    </tr>\n",
       "    <tr>\n",
       "      <th>1</th>\n",
       "      <td>55.0</td>\n",
       "      <td>0</td>\n",
       "      <td>7861</td>\n",
       "      <td>0</td>\n",
       "      <td>38</td>\n",
       "      <td>0</td>\n",
       "      <td>1.1</td>\n",
       "      <td>136</td>\n",
       "      <td>1</td>\n",
       "      <td>0</td>\n",
       "      <td>1</td>\n",
       "      <td>4788.327818</td>\n",
       "      <td>0.109091</td>\n",
       "    </tr>\n",
       "    <tr>\n",
       "      <th>2</th>\n",
       "      <td>65.0</td>\n",
       "      <td>0</td>\n",
       "      <td>146</td>\n",
       "      <td>0</td>\n",
       "      <td>20</td>\n",
       "      <td>0</td>\n",
       "      <td>1.3</td>\n",
       "      <td>129</td>\n",
       "      <td>1</td>\n",
       "      <td>1</td>\n",
       "      <td>1</td>\n",
       "      <td>2492.307692</td>\n",
       "      <td>0.107692</td>\n",
       "    </tr>\n",
       "    <tr>\n",
       "      <th>3</th>\n",
       "      <td>50.0</td>\n",
       "      <td>1</td>\n",
       "      <td>111</td>\n",
       "      <td>0</td>\n",
       "      <td>20</td>\n",
       "      <td>0</td>\n",
       "      <td>1.9</td>\n",
       "      <td>137</td>\n",
       "      <td>1</td>\n",
       "      <td>0</td>\n",
       "      <td>1</td>\n",
       "      <td>4200.000000</td>\n",
       "      <td>0.140000</td>\n",
       "    </tr>\n",
       "    <tr>\n",
       "      <th>4</th>\n",
       "      <td>65.0</td>\n",
       "      <td>1</td>\n",
       "      <td>160</td>\n",
       "      <td>1</td>\n",
       "      <td>20</td>\n",
       "      <td>0</td>\n",
       "      <td>2.7</td>\n",
       "      <td>116</td>\n",
       "      <td>0</td>\n",
       "      <td>0</td>\n",
       "      <td>1</td>\n",
       "      <td>5030.769231</td>\n",
       "      <td>0.123077</td>\n",
       "    </tr>\n",
       "  </tbody>\n",
       "</table>\n",
       "</div>"
      ],
      "text/plain": [
       "    age  anaemia  creatinine_phosphokinase  diabetes  ejection_fraction  \\\n",
       "0  75.0        0                       582         0                 20   \n",
       "1  55.0        0                      7861         0                 38   \n",
       "2  65.0        0                       146         0                 20   \n",
       "3  50.0        1                       111         0                 20   \n",
       "4  65.0        1                       160         1                 20   \n",
       "\n",
       "   high_blood_pressure  serum_creatinine  serum_sodium  sex  smoking  \\\n",
       "0                    1               1.9           130    1        0   \n",
       "1                    0               1.1           136    1        0   \n",
       "2                    0               1.3           129    1        1   \n",
       "3                    0               1.9           137    1        0   \n",
       "4                    0               2.7           116    0        0   \n",
       "\n",
       "   DEATH_EVENT  platelets/age  time/age  \n",
       "0            1    3533.333333  0.053333  \n",
       "1            1    4788.327818  0.109091  \n",
       "2            1    2492.307692  0.107692  \n",
       "3            1    4200.000000  0.140000  \n",
       "4            1    5030.769231  0.123077  "
      ]
     },
     "execution_count": 26,
     "metadata": {},
     "output_type": "execute_result"
    }
   ],
   "source": [
    "data_copy.drop(['platelets' , 'time'] , axis = 1 , inplace = True ) \n",
    "data_copy.head()"
   ]
  },
  {
   "cell_type": "markdown",
   "metadata": {
    "papermill": {
     "duration": 0.088902,
     "end_time": "2020-10-15T01:33:58.129194",
     "exception": false,
     "start_time": "2020-10-15T01:33:58.040292",
     "status": "completed"
    },
    "tags": []
   },
   "source": [
    "<h1 style=\"color:red\">Modelisation</h1>"
   ]
  },
  {
   "cell_type": "code",
   "execution_count": 27,
   "metadata": {
    "execution": {
     "iopub.execute_input": "2020-10-15T01:33:58.354454Z",
     "iopub.status.busy": "2020-10-15T01:33:58.353600Z",
     "iopub.status.idle": "2020-10-15T01:33:58.668569Z",
     "shell.execute_reply": "2020-10-15T01:33:58.667777Z"
    },
    "papermill": {
     "duration": 0.453532,
     "end_time": "2020-10-15T01:33:58.668699",
     "exception": false,
     "start_time": "2020-10-15T01:33:58.215167",
     "status": "completed"
    },
    "tags": []
   },
   "outputs": [],
   "source": [
    "from sklearn.model_selection import train_test_split\n",
    "from sklearn.neighbors import KNeighborsClassifier\n",
    "from sklearn.ensemble import RandomForestClassifier , GradientBoostingClassifier ,AdaBoostClassifier\n",
    "from sklearn.metrics import f1_score as f1\n",
    "from sklearn.pipeline import make_pipeline\n",
    "from sklearn.preprocessing import StandardScaler\n",
    "from sklearn.feature_selection import SelectKBest , f_classif"
   ]
  },
  {
   "cell_type": "code",
   "execution_count": 28,
   "metadata": {
    "execution": {
     "iopub.execute_input": "2020-10-15T01:33:58.850017Z",
     "iopub.status.busy": "2020-10-15T01:33:58.849105Z",
     "iopub.status.idle": "2020-10-15T01:33:58.851950Z",
     "shell.execute_reply": "2020-10-15T01:33:58.851240Z"
    },
    "papermill": {
     "duration": 0.098202,
     "end_time": "2020-10-15T01:33:58.852068",
     "exception": false,
     "start_time": "2020-10-15T01:33:58.753866",
     "status": "completed"
    },
    "tags": []
   },
   "outputs": [],
   "source": [
    "#Split the data\n",
    "X = data_copy.drop(['DEATH_EVENT'] , axis = 1)\n",
    "y = data_copy['DEATH_EVENT']\n",
    "x_train , x_test , y_train , y_test = train_test_split(X,y,test_size = 0.2 ,random_state=1)"
   ]
  },
  {
   "cell_type": "code",
   "execution_count": 29,
   "metadata": {
    "execution": {
     "iopub.execute_input": "2020-10-15T01:33:59.034826Z",
     "iopub.status.busy": "2020-10-15T01:33:59.033692Z",
     "iopub.status.idle": "2020-10-15T01:33:59.037347Z",
     "shell.execute_reply": "2020-10-15T01:33:59.036687Z"
    },
    "papermill": {
     "duration": 0.100009,
     "end_time": "2020-10-15T01:33:59.037470",
     "exception": false,
     "start_time": "2020-10-15T01:33:58.937461",
     "status": "completed"
    },
    "tags": []
   },
   "outputs": [],
   "source": [
    "# We will use KNN with differents values of k in order to have an idea about our score accuracy and f1-score\n",
    "def KNN_best_scores(n_iterations):\n",
    "    acc_score = []\n",
    "    f1_score = []\n",
    "    for k in range(1,n_iterations):\n",
    "        model = KNeighborsClassifier(n_neighbors= k)\n",
    "        model.fit(x_train , y_train)\n",
    "        y_pred = model.predict(x_test)\n",
    "        acc_score.append(model.score(x_test , y_test))\n",
    "        f1_score.append(f1(y_pred , y_test))\n",
    "    Knn_scores = pd.DataFrame(list(zip(acc_score , f1_score)) , index = range(1,n_iterations) ,\n",
    "                              columns = ['Accuracy Score' , 'F1_Score'])\n",
    "    print('Best values for f1_score are : \\n',Knn_scores.nlargest(5, ['F1_Score']))\n",
    "    return  Knn_scores.nlargest(5, ['Accuracy Score'])"
   ]
  },
  {
   "cell_type": "code",
   "execution_count": 30,
   "metadata": {
    "execution": {
     "iopub.execute_input": "2020-10-15T01:33:59.221406Z",
     "iopub.status.busy": "2020-10-15T01:33:59.220622Z",
     "iopub.status.idle": "2020-10-15T01:33:59.506001Z",
     "shell.execute_reply": "2020-10-15T01:33:59.506567Z"
    },
    "papermill": {
     "duration": 0.383965,
     "end_time": "2020-10-15T01:33:59.506754",
     "exception": false,
     "start_time": "2020-10-15T01:33:59.122789",
     "status": "completed"
    },
    "tags": []
   },
   "outputs": [
    {
     "name": "stdout",
     "output_type": "stream",
     "text": [
      "Best values for f1_score are : \n",
      "    Accuracy Score  F1_Score\n",
      "6        0.800000  0.500000\n",
      "7        0.783333  0.480000\n",
      "8        0.800000  0.454545\n",
      "9        0.766667  0.416667\n",
      "5        0.716667  0.413793\n"
     ]
    },
    {
     "data": {
      "text/html": [
       "<div>\n",
       "<style scoped>\n",
       "    .dataframe tbody tr th:only-of-type {\n",
       "        vertical-align: middle;\n",
       "    }\n",
       "\n",
       "    .dataframe tbody tr th {\n",
       "        vertical-align: top;\n",
       "    }\n",
       "\n",
       "    .dataframe thead th {\n",
       "        text-align: right;\n",
       "    }\n",
       "</style>\n",
       "<table border=\"1\" class=\"dataframe\">\n",
       "  <thead>\n",
       "    <tr style=\"text-align: right;\">\n",
       "      <th></th>\n",
       "      <th>Accuracy Score</th>\n",
       "      <th>F1_Score</th>\n",
       "    </tr>\n",
       "  </thead>\n",
       "  <tbody>\n",
       "    <tr>\n",
       "      <th>6</th>\n",
       "      <td>0.800000</td>\n",
       "      <td>0.500000</td>\n",
       "    </tr>\n",
       "    <tr>\n",
       "      <th>8</th>\n",
       "      <td>0.800000</td>\n",
       "      <td>0.454545</td>\n",
       "    </tr>\n",
       "    <tr>\n",
       "      <th>7</th>\n",
       "      <td>0.783333</td>\n",
       "      <td>0.480000</td>\n",
       "    </tr>\n",
       "    <tr>\n",
       "      <th>10</th>\n",
       "      <td>0.783333</td>\n",
       "      <td>0.380952</td>\n",
       "    </tr>\n",
       "    <tr>\n",
       "      <th>2</th>\n",
       "      <td>0.766667</td>\n",
       "      <td>0.300000</td>\n",
       "    </tr>\n",
       "  </tbody>\n",
       "</table>\n",
       "</div>"
      ],
      "text/plain": [
       "    Accuracy Score  F1_Score\n",
       "6         0.800000  0.500000\n",
       "8         0.800000  0.454545\n",
       "7         0.783333  0.480000\n",
       "10        0.783333  0.380952\n",
       "2         0.766667  0.300000"
      ]
     },
     "execution_count": 30,
     "metadata": {},
     "output_type": "execute_result"
    }
   ],
   "source": [
    "#Selecting a range of value between (1,20)\n",
    "KNN_best_scores(20)"
   ]
  },
  {
   "cell_type": "code",
   "execution_count": 31,
   "metadata": {
    "execution": {
     "iopub.execute_input": "2020-10-15T01:33:59.691442Z",
     "iopub.status.busy": "2020-10-15T01:33:59.690630Z",
     "iopub.status.idle": "2020-10-15T01:33:59.694004Z",
     "shell.execute_reply": "2020-10-15T01:33:59.693291Z"
    },
    "papermill": {
     "duration": 0.098744,
     "end_time": "2020-10-15T01:33:59.694135",
     "exception": false,
     "start_time": "2020-10-15T01:33:59.595391",
     "status": "completed"
    },
    "tags": []
   },
   "outputs": [],
   "source": [
    "## RandomForest\n",
    "def RandomForest_best_score():\n",
    "    model = RandomForestClassifier()\n",
    "    model.fit(x_train,y_train)\n",
    "    acc_score = model.score(x_test,y_test)\n",
    "    y_pred = model.predict(x_test)\n",
    "    f1_score = f1(y_pred , y_test)\n",
    "    return pd.DataFrame([[acc_score , f1_score]] , columns = ['Accuracy Score' , 'F1_Score'])\n",
    "    "
   ]
  },
  {
   "cell_type": "code",
   "execution_count": 32,
   "metadata": {
    "execution": {
     "iopub.execute_input": "2020-10-15T01:33:59.901187Z",
     "iopub.status.busy": "2020-10-15T01:33:59.891113Z",
     "iopub.status.idle": "2020-10-15T01:34:00.148322Z",
     "shell.execute_reply": "2020-10-15T01:34:00.147648Z"
    },
    "papermill": {
     "duration": 0.36759,
     "end_time": "2020-10-15T01:34:00.148462",
     "exception": false,
     "start_time": "2020-10-15T01:33:59.780872",
     "status": "completed"
    },
    "tags": []
   },
   "outputs": [
    {
     "name": "stdout",
     "output_type": "stream",
     "text": [
      "RandomForest : Accuracy Score / F1_Score\n"
     ]
    },
    {
     "data": {
      "text/html": [
       "<div>\n",
       "<style scoped>\n",
       "    .dataframe tbody tr th:only-of-type {\n",
       "        vertical-align: middle;\n",
       "    }\n",
       "\n",
       "    .dataframe tbody tr th {\n",
       "        vertical-align: top;\n",
       "    }\n",
       "\n",
       "    .dataframe thead th {\n",
       "        text-align: right;\n",
       "    }\n",
       "</style>\n",
       "<table border=\"1\" class=\"dataframe\">\n",
       "  <thead>\n",
       "    <tr style=\"text-align: right;\">\n",
       "      <th></th>\n",
       "      <th>Accuracy Score</th>\n",
       "      <th>F1_Score</th>\n",
       "    </tr>\n",
       "  </thead>\n",
       "  <tbody>\n",
       "    <tr>\n",
       "      <th>0</th>\n",
       "      <td>0.916667</td>\n",
       "      <td>0.827586</td>\n",
       "    </tr>\n",
       "  </tbody>\n",
       "</table>\n",
       "</div>"
      ],
      "text/plain": [
       "   Accuracy Score  F1_Score\n",
       "0        0.916667  0.827586"
      ]
     },
     "execution_count": 32,
     "metadata": {},
     "output_type": "execute_result"
    }
   ],
   "source": [
    "print(\"RandomForest : Accuracy Score / F1_Score\")\n",
    "RandomForest_best_score()"
   ]
  },
  {
   "cell_type": "code",
   "execution_count": 33,
   "metadata": {
    "execution": {
     "iopub.execute_input": "2020-10-15T01:34:00.334433Z",
     "iopub.status.busy": "2020-10-15T01:34:00.333574Z",
     "iopub.status.idle": "2020-10-15T01:34:00.337055Z",
     "shell.execute_reply": "2020-10-15T01:34:00.336302Z"
    },
    "papermill": {
     "duration": 0.099913,
     "end_time": "2020-10-15T01:34:00.337184",
     "exception": false,
     "start_time": "2020-10-15T01:34:00.237271",
     "status": "completed"
    },
    "tags": []
   },
   "outputs": [],
   "source": [
    "# Gradient Boosting Classifier\n",
    "def GradientBoosting_best_score():\n",
    "    model = GradientBoostingClassifier()\n",
    "    model.fit(x_train , y_train)\n",
    "    y_pred = model.predict(x_test)\n",
    "    acc_score = model.score(x_test , y_test)\n",
    "    f1_score = f1(y_pred , y_test)\n",
    "    \n",
    "    return pd.DataFrame([[acc_score , f1_score]] , columns = ['Accuracy Score' , 'F1_Score'])\n",
    "\n",
    "    \n",
    "    "
   ]
  },
  {
   "cell_type": "code",
   "execution_count": 34,
   "metadata": {
    "execution": {
     "iopub.execute_input": "2020-10-15T01:34:00.522868Z",
     "iopub.status.busy": "2020-10-15T01:34:00.521711Z",
     "iopub.status.idle": "2020-10-15T01:34:00.644053Z",
     "shell.execute_reply": "2020-10-15T01:34:00.644639Z"
    },
    "papermill": {
     "duration": 0.219259,
     "end_time": "2020-10-15T01:34:00.644790",
     "exception": false,
     "start_time": "2020-10-15T01:34:00.425531",
     "status": "completed"
    },
    "tags": []
   },
   "outputs": [
    {
     "name": "stdout",
     "output_type": "stream",
     "text": [
      "GradientBoosting : Accuracy Score / F1_Score\n"
     ]
    },
    {
     "data": {
      "text/html": [
       "<div>\n",
       "<style scoped>\n",
       "    .dataframe tbody tr th:only-of-type {\n",
       "        vertical-align: middle;\n",
       "    }\n",
       "\n",
       "    .dataframe tbody tr th {\n",
       "        vertical-align: top;\n",
       "    }\n",
       "\n",
       "    .dataframe thead th {\n",
       "        text-align: right;\n",
       "    }\n",
       "</style>\n",
       "<table border=\"1\" class=\"dataframe\">\n",
       "  <thead>\n",
       "    <tr style=\"text-align: right;\">\n",
       "      <th></th>\n",
       "      <th>Accuracy Score</th>\n",
       "      <th>F1_Score</th>\n",
       "    </tr>\n",
       "  </thead>\n",
       "  <tbody>\n",
       "    <tr>\n",
       "      <th>0</th>\n",
       "      <td>0.866667</td>\n",
       "      <td>0.714286</td>\n",
       "    </tr>\n",
       "  </tbody>\n",
       "</table>\n",
       "</div>"
      ],
      "text/plain": [
       "   Accuracy Score  F1_Score\n",
       "0        0.866667  0.714286"
      ]
     },
     "execution_count": 34,
     "metadata": {},
     "output_type": "execute_result"
    }
   ],
   "source": [
    "print(\"GradientBoosting : Accuracy Score / F1_Score\")\n",
    "\n",
    "GradientBoosting_best_score()"
   ]
  },
  {
   "cell_type": "code",
   "execution_count": 35,
   "metadata": {
    "execution": {
     "iopub.execute_input": "2020-10-15T01:34:00.834116Z",
     "iopub.status.busy": "2020-10-15T01:34:00.833088Z",
     "iopub.status.idle": "2020-10-15T01:34:00.836847Z",
     "shell.execute_reply": "2020-10-15T01:34:00.836112Z"
    },
    "papermill": {
     "duration": 0.102645,
     "end_time": "2020-10-15T01:34:00.836966",
     "exception": false,
     "start_time": "2020-10-15T01:34:00.734321",
     "status": "completed"
    },
    "tags": []
   },
   "outputs": [],
   "source": [
    "# It combines multiple classifiers to increase the accuracy of classifiers. AdaBoost is an iterative ensemble method\n",
    "def AdaBoostClassifier_best_score(list_values):\n",
    "    acc_scores = []\n",
    "    f1_scores = []\n",
    "    for n in list_values:\n",
    "        model = AdaBoostClassifier(n_estimators=n,learning_rate=0.01)\n",
    "        model.fit(x_train , y_train)\n",
    "        acc_score = model.score(x_test , y_test)\n",
    "        y_pred = model.predict(x_test)\n",
    "        f1_score = f1(y_pred,y_test)\n",
    "        acc_scores.append(acc_score)\n",
    "        f1_scores.append(f1_score)\n",
    "    return pd.DataFrame(list(zip(acc_scores,f1_scores)) , columns = ['Accuracy Score' , 'F1_Score'])"
   ]
  },
  {
   "cell_type": "code",
   "execution_count": 36,
   "metadata": {
    "execution": {
     "iopub.execute_input": "2020-10-15T01:34:01.028384Z",
     "iopub.status.busy": "2020-10-15T01:34:01.027471Z",
     "iopub.status.idle": "2020-10-15T01:34:11.776596Z",
     "shell.execute_reply": "2020-10-15T01:34:11.775864Z"
    },
    "papermill": {
     "duration": 10.850363,
     "end_time": "2020-10-15T01:34:11.776725",
     "exception": false,
     "start_time": "2020-10-15T01:34:00.926362",
     "status": "completed"
    },
    "tags": []
   },
   "outputs": [
    {
     "data": {
      "text/html": [
       "<div>\n",
       "<style scoped>\n",
       "    .dataframe tbody tr th:only-of-type {\n",
       "        vertical-align: middle;\n",
       "    }\n",
       "\n",
       "    .dataframe tbody tr th {\n",
       "        vertical-align: top;\n",
       "    }\n",
       "\n",
       "    .dataframe thead th {\n",
       "        text-align: right;\n",
       "    }\n",
       "</style>\n",
       "<table border=\"1\" class=\"dataframe\">\n",
       "  <thead>\n",
       "    <tr style=\"text-align: right;\">\n",
       "      <th></th>\n",
       "      <th>Accuracy Score</th>\n",
       "      <th>F1_Score</th>\n",
       "    </tr>\n",
       "  </thead>\n",
       "  <tbody>\n",
       "    <tr>\n",
       "      <th>0</th>\n",
       "      <td>0.883333</td>\n",
       "      <td>0.720000</td>\n",
       "    </tr>\n",
       "    <tr>\n",
       "      <th>1</th>\n",
       "      <td>0.883333</td>\n",
       "      <td>0.695652</td>\n",
       "    </tr>\n",
       "    <tr>\n",
       "      <th>2</th>\n",
       "      <td>0.900000</td>\n",
       "      <td>0.750000</td>\n",
       "    </tr>\n",
       "    <tr>\n",
       "      <th>3</th>\n",
       "      <td>0.916667</td>\n",
       "      <td>0.800000</td>\n",
       "    </tr>\n",
       "    <tr>\n",
       "      <th>4</th>\n",
       "      <td>0.900000</td>\n",
       "      <td>0.769231</td>\n",
       "    </tr>\n",
       "    <tr>\n",
       "      <th>5</th>\n",
       "      <td>0.916667</td>\n",
       "      <td>0.800000</td>\n",
       "    </tr>\n",
       "    <tr>\n",
       "      <th>6</th>\n",
       "      <td>0.933333</td>\n",
       "      <td>0.846154</td>\n",
       "    </tr>\n",
       "    <tr>\n",
       "      <th>7</th>\n",
       "      <td>0.916667</td>\n",
       "      <td>0.814815</td>\n",
       "    </tr>\n",
       "    <tr>\n",
       "      <th>8</th>\n",
       "      <td>0.916667</td>\n",
       "      <td>0.814815</td>\n",
       "    </tr>\n",
       "  </tbody>\n",
       "</table>\n",
       "</div>"
      ],
      "text/plain": [
       "   Accuracy Score  F1_Score\n",
       "0        0.883333  0.720000\n",
       "1        0.883333  0.695652\n",
       "2        0.900000  0.750000\n",
       "3        0.916667  0.800000\n",
       "4        0.900000  0.769231\n",
       "5        0.916667  0.800000\n",
       "6        0.933333  0.846154\n",
       "7        0.916667  0.814815\n",
       "8        0.916667  0.814815"
      ]
     },
     "execution_count": 36,
     "metadata": {},
     "output_type": "execute_result"
    }
   ],
   "source": [
    "AdaBoostClassifier_best_score([i for i in range(100,1000,100)])"
   ]
  },
  {
   "cell_type": "markdown",
   "metadata": {
    "papermill": {
     "duration": 0.090009,
     "end_time": "2020-10-15T01:34:11.957446",
     "exception": false,
     "start_time": "2020-10-15T01:34:11.867437",
     "status": "completed"
    },
    "tags": []
   },
   "source": [
    "<h1 style=\"color:red\">Modelisation Using features selection Techniques</h1>"
   ]
  },
  {
   "cell_type": "markdown",
   "metadata": {
    "papermill": {
     "duration": 0.113782,
     "end_time": "2020-10-15T01:34:12.162103",
     "exception": false,
     "start_time": "2020-10-15T01:34:12.048321",
     "status": "completed"
    },
    "tags": []
   },
   "source": [
    "- We will use SelectKBest as a feature selector to improve our model"
   ]
  },
  {
   "cell_type": "code",
   "execution_count": 37,
   "metadata": {
    "execution": {
     "iopub.execute_input": "2020-10-15T01:34:12.377708Z",
     "iopub.status.busy": "2020-10-15T01:34:12.376937Z",
     "iopub.status.idle": "2020-10-15T01:34:12.379930Z",
     "shell.execute_reply": "2020-10-15T01:34:12.379210Z"
    },
    "papermill": {
     "duration": 0.113362,
     "end_time": "2020-10-15T01:34:12.380054",
     "exception": false,
     "start_time": "2020-10-15T01:34:12.266692",
     "status": "completed"
    },
    "tags": []
   },
   "outputs": [],
   "source": [
    "## SelectKBest with range of values (5,6,7,8) and try to find difference between models with and without feature selection\n",
    "def KNN_With_Feature_Selection():\n",
    "    acc = []\n",
    "    f1_scores = []\n",
    "    features_names = []\n",
    "    for n in range(5,9):\n",
    "        feature_selection = SelectKBest(f_classif , k = n)\n",
    "        features_name = feature_selection.fit_transform(data_copy[X.columns], data_copy['DEATH_EVENT'])\n",
    "        cols = feature_selection.get_support(indices=True)\n",
    "        features_name = data_copy.columns[cols]\n",
    "        features_names.append(features_name)\n",
    "        knn_processor = make_pipeline(StandardScaler() , feature_selection )\n",
    "        for i in range(1,20):\n",
    "            KNN_model = make_pipeline(knn_processor , KNeighborsClassifier(n_neighbors = i))\n",
    "            KNN_model.fit(x_train , y_train)\n",
    "            acc_score = KNN_model.score(x_test,y_test)\n",
    "            y_pred = KNN_model.predict(x_test)\n",
    "            f1_score = f1(y_pred , y_test)\n",
    "            acc.append(acc_score)\n",
    "            f1_scores.append(f1_score)\n",
    "    DF1 = pd.DataFrame(list(zip(acc[:19] , f1_scores[:19])) , columns = ['Accuracy(n = 5)' , 'F1_Score(n = 5)'])\n",
    "    DF2 = pd.DataFrame(list(zip(acc[20:37] , f1_scores[20:37])) , columns = ['Accuracy(n = 6)' , 'F1_Score(n = 6)'])\n",
    "    DF3 = pd.DataFrame(list(zip(acc[38:56] , f1_scores[38:56])) , columns = ['Accuracy(n = 7)' , 'F1_Score(n = 7)'])\n",
    "    DF4 = pd.DataFrame(list(zip(acc[57:] , f1_scores[57:])) , columns = ['Accuracy(n = 8)' , 'F1_Score(n = 8)'])\n",
    "    \n",
    "    return (list(features_names[0]) , DF1) , (list(features_names[1]) , DF2) , (list(features_names[2]) , DF3) , (list(features_names[3]) , DF2)\n",
    "   "
   ]
  },
  {
   "cell_type": "code",
   "execution_count": 38,
   "metadata": {
    "execution": {
     "iopub.execute_input": "2020-10-15T01:34:12.570109Z",
     "iopub.status.busy": "2020-10-15T01:34:12.569351Z",
     "iopub.status.idle": "2020-10-15T01:34:14.047321Z",
     "shell.execute_reply": "2020-10-15T01:34:14.046510Z"
    },
    "papermill": {
     "duration": 1.577315,
     "end_time": "2020-10-15T01:34:14.047449",
     "exception": false,
     "start_time": "2020-10-15T01:34:12.470134",
     "status": "completed"
    },
    "tags": []
   },
   "outputs": [],
   "source": [
    "(FN0,DF1),(FN1,DF2) ,(FN2,DF3) ,(FN3,DF4) = KNN_With_Feature_Selection()\n"
   ]
  },
  {
   "cell_type": "code",
   "execution_count": 39,
   "metadata": {
    "execution": {
     "iopub.execute_input": "2020-10-15T01:34:14.242443Z",
     "iopub.status.busy": "2020-10-15T01:34:14.241522Z",
     "iopub.status.idle": "2020-10-15T01:34:14.247231Z",
     "shell.execute_reply": "2020-10-15T01:34:14.246656Z"
    },
    "papermill": {
     "duration": 0.10827,
     "end_time": "2020-10-15T01:34:14.247352",
     "exception": false,
     "start_time": "2020-10-15T01:34:14.139082",
     "status": "completed"
    },
    "tags": []
   },
   "outputs": [
    {
     "name": "stdout",
     "output_type": "stream",
     "text": [
      "Feature Selection with n =5  ['age', 'ejection_fraction', 'serum_creatinine', 'serum_sodium', 'platelets/age']\n"
     ]
    },
    {
     "data": {
      "text/html": [
       "<div>\n",
       "<style scoped>\n",
       "    .dataframe tbody tr th:only-of-type {\n",
       "        vertical-align: middle;\n",
       "    }\n",
       "\n",
       "    .dataframe tbody tr th {\n",
       "        vertical-align: top;\n",
       "    }\n",
       "\n",
       "    .dataframe thead th {\n",
       "        text-align: right;\n",
       "    }\n",
       "</style>\n",
       "<table border=\"1\" class=\"dataframe\">\n",
       "  <thead>\n",
       "    <tr style=\"text-align: right;\">\n",
       "      <th></th>\n",
       "      <th>Accuracy(n = 5)</th>\n",
       "      <th>F1_Score(n = 5)</th>\n",
       "    </tr>\n",
       "  </thead>\n",
       "  <tbody>\n",
       "    <tr>\n",
       "      <th>0</th>\n",
       "      <td>0.900000</td>\n",
       "      <td>0.785714</td>\n",
       "    </tr>\n",
       "    <tr>\n",
       "      <th>1</th>\n",
       "      <td>0.883333</td>\n",
       "      <td>0.695652</td>\n",
       "    </tr>\n",
       "    <tr>\n",
       "      <th>2</th>\n",
       "      <td>0.883333</td>\n",
       "      <td>0.758621</td>\n",
       "    </tr>\n",
       "    <tr>\n",
       "      <th>3</th>\n",
       "      <td>0.883333</td>\n",
       "      <td>0.740741</td>\n",
       "    </tr>\n",
       "    <tr>\n",
       "      <th>4</th>\n",
       "      <td>0.850000</td>\n",
       "      <td>0.709677</td>\n",
       "    </tr>\n",
       "    <tr>\n",
       "      <th>5</th>\n",
       "      <td>0.850000</td>\n",
       "      <td>0.666667</td>\n",
       "    </tr>\n",
       "    <tr>\n",
       "      <th>6</th>\n",
       "      <td>0.850000</td>\n",
       "      <td>0.689655</td>\n",
       "    </tr>\n",
       "    <tr>\n",
       "      <th>7</th>\n",
       "      <td>0.850000</td>\n",
       "      <td>0.666667</td>\n",
       "    </tr>\n",
       "    <tr>\n",
       "      <th>8</th>\n",
       "      <td>0.866667</td>\n",
       "      <td>0.714286</td>\n",
       "    </tr>\n",
       "    <tr>\n",
       "      <th>9</th>\n",
       "      <td>0.916667</td>\n",
       "      <td>0.800000</td>\n",
       "    </tr>\n",
       "    <tr>\n",
       "      <th>10</th>\n",
       "      <td>0.916667</td>\n",
       "      <td>0.800000</td>\n",
       "    </tr>\n",
       "    <tr>\n",
       "      <th>11</th>\n",
       "      <td>0.916667</td>\n",
       "      <td>0.800000</td>\n",
       "    </tr>\n",
       "    <tr>\n",
       "      <th>12</th>\n",
       "      <td>0.900000</td>\n",
       "      <td>0.769231</td>\n",
       "    </tr>\n",
       "    <tr>\n",
       "      <th>13</th>\n",
       "      <td>0.883333</td>\n",
       "      <td>0.695652</td>\n",
       "    </tr>\n",
       "    <tr>\n",
       "      <th>14</th>\n",
       "      <td>0.900000</td>\n",
       "      <td>0.750000</td>\n",
       "    </tr>\n",
       "    <tr>\n",
       "      <th>15</th>\n",
       "      <td>0.866667</td>\n",
       "      <td>0.636364</td>\n",
       "    </tr>\n",
       "    <tr>\n",
       "      <th>16</th>\n",
       "      <td>0.883333</td>\n",
       "      <td>0.695652</td>\n",
       "    </tr>\n",
       "    <tr>\n",
       "      <th>17</th>\n",
       "      <td>0.850000</td>\n",
       "      <td>0.571429</td>\n",
       "    </tr>\n",
       "    <tr>\n",
       "      <th>18</th>\n",
       "      <td>0.883333</td>\n",
       "      <td>0.695652</td>\n",
       "    </tr>\n",
       "  </tbody>\n",
       "</table>\n",
       "</div>"
      ],
      "text/plain": [
       "    Accuracy(n = 5)  F1_Score(n = 5)\n",
       "0          0.900000         0.785714\n",
       "1          0.883333         0.695652\n",
       "2          0.883333         0.758621\n",
       "3          0.883333         0.740741\n",
       "4          0.850000         0.709677\n",
       "5          0.850000         0.666667\n",
       "6          0.850000         0.689655\n",
       "7          0.850000         0.666667\n",
       "8          0.866667         0.714286\n",
       "9          0.916667         0.800000\n",
       "10         0.916667         0.800000\n",
       "11         0.916667         0.800000\n",
       "12         0.900000         0.769231\n",
       "13         0.883333         0.695652\n",
       "14         0.900000         0.750000\n",
       "15         0.866667         0.636364\n",
       "16         0.883333         0.695652\n",
       "17         0.850000         0.571429\n",
       "18         0.883333         0.695652"
      ]
     },
     "execution_count": 39,
     "metadata": {},
     "output_type": "execute_result"
    }
   ],
   "source": [
    "print(\"Feature Selection with n =5 \" , FN0)\n",
    "DF1"
   ]
  },
  {
   "cell_type": "code",
   "execution_count": 40,
   "metadata": {
    "execution": {
     "iopub.execute_input": "2020-10-15T01:34:14.469394Z",
     "iopub.status.busy": "2020-10-15T01:34:14.468365Z",
     "iopub.status.idle": "2020-10-15T01:34:14.484925Z",
     "shell.execute_reply": "2020-10-15T01:34:14.485719Z"
    },
    "papermill": {
     "duration": 0.145687,
     "end_time": "2020-10-15T01:34:14.485972",
     "exception": false,
     "start_time": "2020-10-15T01:34:14.340285",
     "status": "completed"
    },
    "tags": []
   },
   "outputs": [
    {
     "name": "stdout",
     "output_type": "stream",
     "text": [
      "Feature Selection with n =5  ['age', 'ejection_fraction', 'serum_creatinine', 'serum_sodium', 'DEATH_EVENT', 'platelets/age']\n"
     ]
    },
    {
     "data": {
      "text/html": [
       "<div>\n",
       "<style scoped>\n",
       "    .dataframe tbody tr th:only-of-type {\n",
       "        vertical-align: middle;\n",
       "    }\n",
       "\n",
       "    .dataframe tbody tr th {\n",
       "        vertical-align: top;\n",
       "    }\n",
       "\n",
       "    .dataframe thead th {\n",
       "        text-align: right;\n",
       "    }\n",
       "</style>\n",
       "<table border=\"1\" class=\"dataframe\">\n",
       "  <thead>\n",
       "    <tr style=\"text-align: right;\">\n",
       "      <th></th>\n",
       "      <th>Accuracy(n = 6)</th>\n",
       "      <th>F1_Score(n = 6)</th>\n",
       "    </tr>\n",
       "  </thead>\n",
       "  <tbody>\n",
       "    <tr>\n",
       "      <th>0</th>\n",
       "      <td>0.816667</td>\n",
       "      <td>0.421053</td>\n",
       "    </tr>\n",
       "    <tr>\n",
       "      <th>1</th>\n",
       "      <td>0.766667</td>\n",
       "      <td>0.461538</td>\n",
       "    </tr>\n",
       "    <tr>\n",
       "      <th>2</th>\n",
       "      <td>0.800000</td>\n",
       "      <td>0.400000</td>\n",
       "    </tr>\n",
       "    <tr>\n",
       "      <th>3</th>\n",
       "      <td>0.800000</td>\n",
       "      <td>0.538462</td>\n",
       "    </tr>\n",
       "    <tr>\n",
       "      <th>4</th>\n",
       "      <td>0.800000</td>\n",
       "      <td>0.400000</td>\n",
       "    </tr>\n",
       "    <tr>\n",
       "      <th>5</th>\n",
       "      <td>0.833333</td>\n",
       "      <td>0.615385</td>\n",
       "    </tr>\n",
       "    <tr>\n",
       "      <th>6</th>\n",
       "      <td>0.866667</td>\n",
       "      <td>0.636364</td>\n",
       "    </tr>\n",
       "    <tr>\n",
       "      <th>7</th>\n",
       "      <td>0.850000</td>\n",
       "      <td>0.640000</td>\n",
       "    </tr>\n",
       "    <tr>\n",
       "      <th>8</th>\n",
       "      <td>0.833333</td>\n",
       "      <td>0.583333</td>\n",
       "    </tr>\n",
       "    <tr>\n",
       "      <th>9</th>\n",
       "      <td>0.833333</td>\n",
       "      <td>0.583333</td>\n",
       "    </tr>\n",
       "    <tr>\n",
       "      <th>10</th>\n",
       "      <td>0.850000</td>\n",
       "      <td>0.608696</td>\n",
       "    </tr>\n",
       "    <tr>\n",
       "      <th>11</th>\n",
       "      <td>0.833333</td>\n",
       "      <td>0.583333</td>\n",
       "    </tr>\n",
       "    <tr>\n",
       "      <th>12</th>\n",
       "      <td>0.833333</td>\n",
       "      <td>0.500000</td>\n",
       "    </tr>\n",
       "    <tr>\n",
       "      <th>13</th>\n",
       "      <td>0.866667</td>\n",
       "      <td>0.636364</td>\n",
       "    </tr>\n",
       "    <tr>\n",
       "      <th>14</th>\n",
       "      <td>0.850000</td>\n",
       "      <td>0.571429</td>\n",
       "    </tr>\n",
       "    <tr>\n",
       "      <th>15</th>\n",
       "      <td>0.866667</td>\n",
       "      <td>0.636364</td>\n",
       "    </tr>\n",
       "    <tr>\n",
       "      <th>16</th>\n",
       "      <td>0.850000</td>\n",
       "      <td>0.571429</td>\n",
       "    </tr>\n",
       "  </tbody>\n",
       "</table>\n",
       "</div>"
      ],
      "text/plain": [
       "    Accuracy(n = 6)  F1_Score(n = 6)\n",
       "0          0.816667         0.421053\n",
       "1          0.766667         0.461538\n",
       "2          0.800000         0.400000\n",
       "3          0.800000         0.538462\n",
       "4          0.800000         0.400000\n",
       "5          0.833333         0.615385\n",
       "6          0.866667         0.636364\n",
       "7          0.850000         0.640000\n",
       "8          0.833333         0.583333\n",
       "9          0.833333         0.583333\n",
       "10         0.850000         0.608696\n",
       "11         0.833333         0.583333\n",
       "12         0.833333         0.500000\n",
       "13         0.866667         0.636364\n",
       "14         0.850000         0.571429\n",
       "15         0.866667         0.636364\n",
       "16         0.850000         0.571429"
      ]
     },
     "execution_count": 40,
     "metadata": {},
     "output_type": "execute_result"
    }
   ],
   "source": [
    "print(\"Feature Selection with n =5 \" , FN1)\n",
    "DF2"
   ]
  },
  {
   "cell_type": "code",
   "execution_count": 41,
   "metadata": {
    "execution": {
     "iopub.execute_input": "2020-10-15T01:34:14.713141Z",
     "iopub.status.busy": "2020-10-15T01:34:14.712034Z",
     "iopub.status.idle": "2020-10-15T01:34:14.719024Z",
     "shell.execute_reply": "2020-10-15T01:34:14.718180Z"
    },
    "papermill": {
     "duration": 0.126679,
     "end_time": "2020-10-15T01:34:14.719183",
     "exception": false,
     "start_time": "2020-10-15T01:34:14.592504",
     "status": "completed"
    },
    "tags": []
   },
   "outputs": [
    {
     "name": "stdout",
     "output_type": "stream",
     "text": [
      "Feature Selection with n =5  ['age', 'ejection_fraction', 'high_blood_pressure', 'serum_creatinine', 'serum_sodium', 'DEATH_EVENT', 'platelets/age']\n"
     ]
    },
    {
     "data": {
      "text/html": [
       "<div>\n",
       "<style scoped>\n",
       "    .dataframe tbody tr th:only-of-type {\n",
       "        vertical-align: middle;\n",
       "    }\n",
       "\n",
       "    .dataframe tbody tr th {\n",
       "        vertical-align: top;\n",
       "    }\n",
       "\n",
       "    .dataframe thead th {\n",
       "        text-align: right;\n",
       "    }\n",
       "</style>\n",
       "<table border=\"1\" class=\"dataframe\">\n",
       "  <thead>\n",
       "    <tr style=\"text-align: right;\">\n",
       "      <th></th>\n",
       "      <th>Accuracy(n = 7)</th>\n",
       "      <th>F1_Score(n = 7)</th>\n",
       "    </tr>\n",
       "  </thead>\n",
       "  <tbody>\n",
       "    <tr>\n",
       "      <th>0</th>\n",
       "      <td>0.833333</td>\n",
       "      <td>0.666667</td>\n",
       "    </tr>\n",
       "    <tr>\n",
       "      <th>1</th>\n",
       "      <td>0.766667</td>\n",
       "      <td>0.363636</td>\n",
       "    </tr>\n",
       "    <tr>\n",
       "      <th>2</th>\n",
       "      <td>0.766667</td>\n",
       "      <td>0.416667</td>\n",
       "    </tr>\n",
       "    <tr>\n",
       "      <th>3</th>\n",
       "      <td>0.783333</td>\n",
       "      <td>0.315789</td>\n",
       "    </tr>\n",
       "    <tr>\n",
       "      <th>4</th>\n",
       "      <td>0.816667</td>\n",
       "      <td>0.521739</td>\n",
       "    </tr>\n",
       "    <tr>\n",
       "      <th>5</th>\n",
       "      <td>0.816667</td>\n",
       "      <td>0.421053</td>\n",
       "    </tr>\n",
       "    <tr>\n",
       "      <th>6</th>\n",
       "      <td>0.850000</td>\n",
       "      <td>0.571429</td>\n",
       "    </tr>\n",
       "    <tr>\n",
       "      <th>7</th>\n",
       "      <td>0.850000</td>\n",
       "      <td>0.571429</td>\n",
       "    </tr>\n",
       "    <tr>\n",
       "      <th>8</th>\n",
       "      <td>0.833333</td>\n",
       "      <td>0.583333</td>\n",
       "    </tr>\n",
       "    <tr>\n",
       "      <th>9</th>\n",
       "      <td>0.850000</td>\n",
       "      <td>0.608696</td>\n",
       "    </tr>\n",
       "    <tr>\n",
       "      <th>10</th>\n",
       "      <td>0.833333</td>\n",
       "      <td>0.583333</td>\n",
       "    </tr>\n",
       "    <tr>\n",
       "      <th>11</th>\n",
       "      <td>0.833333</td>\n",
       "      <td>0.545455</td>\n",
       "    </tr>\n",
       "    <tr>\n",
       "      <th>12</th>\n",
       "      <td>0.850000</td>\n",
       "      <td>0.608696</td>\n",
       "    </tr>\n",
       "    <tr>\n",
       "      <th>13</th>\n",
       "      <td>0.850000</td>\n",
       "      <td>0.571429</td>\n",
       "    </tr>\n",
       "    <tr>\n",
       "      <th>14</th>\n",
       "      <td>0.850000</td>\n",
       "      <td>0.608696</td>\n",
       "    </tr>\n",
       "    <tr>\n",
       "      <th>15</th>\n",
       "      <td>0.850000</td>\n",
       "      <td>0.571429</td>\n",
       "    </tr>\n",
       "    <tr>\n",
       "      <th>16</th>\n",
       "      <td>0.833333</td>\n",
       "      <td>0.545455</td>\n",
       "    </tr>\n",
       "    <tr>\n",
       "      <th>17</th>\n",
       "      <td>0.833333</td>\n",
       "      <td>0.500000</td>\n",
       "    </tr>\n",
       "  </tbody>\n",
       "</table>\n",
       "</div>"
      ],
      "text/plain": [
       "    Accuracy(n = 7)  F1_Score(n = 7)\n",
       "0          0.833333         0.666667\n",
       "1          0.766667         0.363636\n",
       "2          0.766667         0.416667\n",
       "3          0.783333         0.315789\n",
       "4          0.816667         0.521739\n",
       "5          0.816667         0.421053\n",
       "6          0.850000         0.571429\n",
       "7          0.850000         0.571429\n",
       "8          0.833333         0.583333\n",
       "9          0.850000         0.608696\n",
       "10         0.833333         0.583333\n",
       "11         0.833333         0.545455\n",
       "12         0.850000         0.608696\n",
       "13         0.850000         0.571429\n",
       "14         0.850000         0.608696\n",
       "15         0.850000         0.571429\n",
       "16         0.833333         0.545455\n",
       "17         0.833333         0.500000"
      ]
     },
     "execution_count": 41,
     "metadata": {},
     "output_type": "execute_result"
    }
   ],
   "source": [
    "print(\"Feature Selection with n =5 \" , FN2)\n",
    "DF3"
   ]
  },
  {
   "cell_type": "code",
   "execution_count": 42,
   "metadata": {
    "execution": {
     "iopub.execute_input": "2020-10-15T01:34:14.924531Z",
     "iopub.status.busy": "2020-10-15T01:34:14.923677Z",
     "iopub.status.idle": "2020-10-15T01:34:14.928680Z",
     "shell.execute_reply": "2020-10-15T01:34:14.929456Z"
    },
    "papermill": {
     "duration": 0.112097,
     "end_time": "2020-10-15T01:34:14.929664",
     "exception": false,
     "start_time": "2020-10-15T01:34:14.817567",
     "status": "completed"
    },
    "tags": []
   },
   "outputs": [
    {
     "name": "stdout",
     "output_type": "stream",
     "text": [
      "Feature Selection with n =5  ['age', 'anaemia', 'ejection_fraction', 'high_blood_pressure', 'serum_creatinine', 'serum_sodium', 'DEATH_EVENT', 'platelets/age']\n"
     ]
    },
    {
     "data": {
      "text/html": [
       "<div>\n",
       "<style scoped>\n",
       "    .dataframe tbody tr th:only-of-type {\n",
       "        vertical-align: middle;\n",
       "    }\n",
       "\n",
       "    .dataframe tbody tr th {\n",
       "        vertical-align: top;\n",
       "    }\n",
       "\n",
       "    .dataframe thead th {\n",
       "        text-align: right;\n",
       "    }\n",
       "</style>\n",
       "<table border=\"1\" class=\"dataframe\">\n",
       "  <thead>\n",
       "    <tr style=\"text-align: right;\">\n",
       "      <th></th>\n",
       "      <th>Accuracy(n = 6)</th>\n",
       "      <th>F1_Score(n = 6)</th>\n",
       "    </tr>\n",
       "  </thead>\n",
       "  <tbody>\n",
       "    <tr>\n",
       "      <th>0</th>\n",
       "      <td>0.816667</td>\n",
       "      <td>0.421053</td>\n",
       "    </tr>\n",
       "    <tr>\n",
       "      <th>1</th>\n",
       "      <td>0.766667</td>\n",
       "      <td>0.461538</td>\n",
       "    </tr>\n",
       "    <tr>\n",
       "      <th>2</th>\n",
       "      <td>0.800000</td>\n",
       "      <td>0.400000</td>\n",
       "    </tr>\n",
       "    <tr>\n",
       "      <th>3</th>\n",
       "      <td>0.800000</td>\n",
       "      <td>0.538462</td>\n",
       "    </tr>\n",
       "    <tr>\n",
       "      <th>4</th>\n",
       "      <td>0.800000</td>\n",
       "      <td>0.400000</td>\n",
       "    </tr>\n",
       "    <tr>\n",
       "      <th>5</th>\n",
       "      <td>0.833333</td>\n",
       "      <td>0.615385</td>\n",
       "    </tr>\n",
       "    <tr>\n",
       "      <th>6</th>\n",
       "      <td>0.866667</td>\n",
       "      <td>0.636364</td>\n",
       "    </tr>\n",
       "    <tr>\n",
       "      <th>7</th>\n",
       "      <td>0.850000</td>\n",
       "      <td>0.640000</td>\n",
       "    </tr>\n",
       "    <tr>\n",
       "      <th>8</th>\n",
       "      <td>0.833333</td>\n",
       "      <td>0.583333</td>\n",
       "    </tr>\n",
       "    <tr>\n",
       "      <th>9</th>\n",
       "      <td>0.833333</td>\n",
       "      <td>0.583333</td>\n",
       "    </tr>\n",
       "    <tr>\n",
       "      <th>10</th>\n",
       "      <td>0.850000</td>\n",
       "      <td>0.608696</td>\n",
       "    </tr>\n",
       "    <tr>\n",
       "      <th>11</th>\n",
       "      <td>0.833333</td>\n",
       "      <td>0.583333</td>\n",
       "    </tr>\n",
       "    <tr>\n",
       "      <th>12</th>\n",
       "      <td>0.833333</td>\n",
       "      <td>0.500000</td>\n",
       "    </tr>\n",
       "    <tr>\n",
       "      <th>13</th>\n",
       "      <td>0.866667</td>\n",
       "      <td>0.636364</td>\n",
       "    </tr>\n",
       "    <tr>\n",
       "      <th>14</th>\n",
       "      <td>0.850000</td>\n",
       "      <td>0.571429</td>\n",
       "    </tr>\n",
       "    <tr>\n",
       "      <th>15</th>\n",
       "      <td>0.866667</td>\n",
       "      <td>0.636364</td>\n",
       "    </tr>\n",
       "    <tr>\n",
       "      <th>16</th>\n",
       "      <td>0.850000</td>\n",
       "      <td>0.571429</td>\n",
       "    </tr>\n",
       "  </tbody>\n",
       "</table>\n",
       "</div>"
      ],
      "text/plain": [
       "    Accuracy(n = 6)  F1_Score(n = 6)\n",
       "0          0.816667         0.421053\n",
       "1          0.766667         0.461538\n",
       "2          0.800000         0.400000\n",
       "3          0.800000         0.538462\n",
       "4          0.800000         0.400000\n",
       "5          0.833333         0.615385\n",
       "6          0.866667         0.636364\n",
       "7          0.850000         0.640000\n",
       "8          0.833333         0.583333\n",
       "9          0.833333         0.583333\n",
       "10         0.850000         0.608696\n",
       "11         0.833333         0.583333\n",
       "12         0.833333         0.500000\n",
       "13         0.866667         0.636364\n",
       "14         0.850000         0.571429\n",
       "15         0.866667         0.636364\n",
       "16         0.850000         0.571429"
      ]
     },
     "execution_count": 42,
     "metadata": {},
     "output_type": "execute_result"
    }
   ],
   "source": [
    "print(\"Feature Selection with n =5 \" , FN3)\n",
    "DF4"
   ]
  },
  {
   "cell_type": "code",
   "execution_count": 43,
   "metadata": {
    "execution": {
     "iopub.execute_input": "2020-10-15T01:34:15.133677Z",
     "iopub.status.busy": "2020-10-15T01:34:15.130674Z",
     "iopub.status.idle": "2020-10-15T01:34:15.136456Z",
     "shell.execute_reply": "2020-10-15T01:34:15.137048Z"
    },
    "papermill": {
     "duration": 0.111132,
     "end_time": "2020-10-15T01:34:15.137207",
     "exception": false,
     "start_time": "2020-10-15T01:34:15.026075",
     "status": "completed"
    },
    "tags": []
   },
   "outputs": [],
   "source": [
    "def AdaBoostClassifier_best_score_with_feature_selection(list_values):\n",
    "    train_score = []\n",
    "    acc = []\n",
    "    f1_scores = []\n",
    "    feature_selection = SelectKBest(f_classif , k = 5)\n",
    "    adaboost_processor = make_pipeline(StandardScaler() , feature_selection )\n",
    "    for i in list_values:\n",
    "        adabooost_model = make_pipeline(adaboost_processor , AdaBoostClassifier(n_estimators= i,learning_rate=0.09))\n",
    "        adabooost_model.fit(x_train , y_train)\n",
    "        train_sc= adabooost_model.score(x_train,y_train)\n",
    "        train_score.append(train_sc)\n",
    "        acc_score = adabooost_model.score(x_test,y_test)\n",
    "        y_pred = adabooost_model.predict(x_test)\n",
    "        f1_score = f1(y_pred , y_test)\n",
    "        acc.append(acc_score)\n",
    "        f1_scores.append(f1_score)\n",
    "    return pd.DataFrame(list(zip(train_score,acc,f1_scores)) , columns = ['Train Score','Accuracy Score' , 'F1_Score'])\n",
    "   "
   ]
  },
  {
   "cell_type": "code",
   "execution_count": 44,
   "metadata": {
    "execution": {
     "iopub.execute_input": "2020-10-15T01:34:15.338875Z",
     "iopub.status.busy": "2020-10-15T01:34:15.338137Z",
     "iopub.status.idle": "2020-10-15T01:34:26.880228Z",
     "shell.execute_reply": "2020-10-15T01:34:26.879524Z"
    },
    "papermill": {
     "duration": 11.647424,
     "end_time": "2020-10-15T01:34:26.880360",
     "exception": false,
     "start_time": "2020-10-15T01:34:15.232936",
     "status": "completed"
    },
    "tags": []
   },
   "outputs": [
    {
     "data": {
      "text/html": [
       "<div>\n",
       "<style scoped>\n",
       "    .dataframe tbody tr th:only-of-type {\n",
       "        vertical-align: middle;\n",
       "    }\n",
       "\n",
       "    .dataframe tbody tr th {\n",
       "        vertical-align: top;\n",
       "    }\n",
       "\n",
       "    .dataframe thead th {\n",
       "        text-align: right;\n",
       "    }\n",
       "</style>\n",
       "<table border=\"1\" class=\"dataframe\">\n",
       "  <thead>\n",
       "    <tr style=\"text-align: right;\">\n",
       "      <th></th>\n",
       "      <th>Train Score</th>\n",
       "      <th>Accuracy Score</th>\n",
       "      <th>F1_Score</th>\n",
       "    </tr>\n",
       "  </thead>\n",
       "  <tbody>\n",
       "    <tr>\n",
       "      <th>0</th>\n",
       "      <td>0.853556</td>\n",
       "      <td>0.850000</td>\n",
       "      <td>0.689655</td>\n",
       "    </tr>\n",
       "    <tr>\n",
       "      <th>1</th>\n",
       "      <td>0.857741</td>\n",
       "      <td>0.850000</td>\n",
       "      <td>0.666667</td>\n",
       "    </tr>\n",
       "    <tr>\n",
       "      <th>2</th>\n",
       "      <td>0.882845</td>\n",
       "      <td>0.866667</td>\n",
       "      <td>0.692308</td>\n",
       "    </tr>\n",
       "    <tr>\n",
       "      <th>3</th>\n",
       "      <td>0.882845</td>\n",
       "      <td>0.866667</td>\n",
       "      <td>0.692308</td>\n",
       "    </tr>\n",
       "    <tr>\n",
       "      <th>4</th>\n",
       "      <td>0.887029</td>\n",
       "      <td>0.866667</td>\n",
       "      <td>0.692308</td>\n",
       "    </tr>\n",
       "    <tr>\n",
       "      <th>5</th>\n",
       "      <td>0.891213</td>\n",
       "      <td>0.866667</td>\n",
       "      <td>0.692308</td>\n",
       "    </tr>\n",
       "    <tr>\n",
       "      <th>6</th>\n",
       "      <td>0.891213</td>\n",
       "      <td>0.866667</td>\n",
       "      <td>0.692308</td>\n",
       "    </tr>\n",
       "    <tr>\n",
       "      <th>7</th>\n",
       "      <td>0.891213</td>\n",
       "      <td>0.883333</td>\n",
       "      <td>0.740741</td>\n",
       "    </tr>\n",
       "    <tr>\n",
       "      <th>8</th>\n",
       "      <td>0.903766</td>\n",
       "      <td>0.883333</td>\n",
       "      <td>0.740741</td>\n",
       "    </tr>\n",
       "  </tbody>\n",
       "</table>\n",
       "</div>"
      ],
      "text/plain": [
       "   Train Score  Accuracy Score  F1_Score\n",
       "0     0.853556        0.850000  0.689655\n",
       "1     0.857741        0.850000  0.666667\n",
       "2     0.882845        0.866667  0.692308\n",
       "3     0.882845        0.866667  0.692308\n",
       "4     0.887029        0.866667  0.692308\n",
       "5     0.891213        0.866667  0.692308\n",
       "6     0.891213        0.866667  0.692308\n",
       "7     0.891213        0.883333  0.740741\n",
       "8     0.903766        0.883333  0.740741"
      ]
     },
     "execution_count": 44,
     "metadata": {},
     "output_type": "execute_result"
    }
   ],
   "source": [
    "AdaBoostClassifier_best_score_with_feature_selection([i for i in range(100,1000,100)])"
   ]
  },
  {
   "cell_type": "code",
   "execution_count": 45,
   "metadata": {
    "execution": {
     "iopub.execute_input": "2020-10-15T01:34:27.087407Z",
     "iopub.status.busy": "2020-10-15T01:34:27.084278Z",
     "iopub.status.idle": "2020-10-15T01:34:29.112420Z",
     "shell.execute_reply": "2020-10-15T01:34:29.111764Z"
    },
    "papermill": {
     "duration": 2.135461,
     "end_time": "2020-10-15T01:34:29.112541",
     "exception": false,
     "start_time": "2020-10-15T01:34:26.977080",
     "status": "completed"
    },
    "tags": []
   },
   "outputs": [
    {
     "data": {
      "text/html": [
       "<div>\n",
       "<style scoped>\n",
       "    .dataframe tbody tr th:only-of-type {\n",
       "        vertical-align: middle;\n",
       "    }\n",
       "\n",
       "    .dataframe tbody tr th {\n",
       "        vertical-align: top;\n",
       "    }\n",
       "\n",
       "    .dataframe thead th {\n",
       "        text-align: right;\n",
       "    }\n",
       "</style>\n",
       "<table border=\"1\" class=\"dataframe\">\n",
       "  <thead>\n",
       "    <tr style=\"text-align: right;\">\n",
       "      <th></th>\n",
       "      <th>Train Score</th>\n",
       "      <th>Accuracy Score</th>\n",
       "      <th>F1_Score</th>\n",
       "    </tr>\n",
       "  </thead>\n",
       "  <tbody>\n",
       "    <tr>\n",
       "      <th>0</th>\n",
       "      <td>0.891213</td>\n",
       "      <td>0.883333</td>\n",
       "      <td>0.740741</td>\n",
       "    </tr>\n",
       "  </tbody>\n",
       "</table>\n",
       "</div>"
      ],
      "text/plain": [
       "   Train Score  Accuracy Score  F1_Score\n",
       "0     0.891213        0.883333  0.740741"
      ]
     },
     "execution_count": 45,
     "metadata": {},
     "output_type": "execute_result"
    }
   ],
   "source": [
    "AdaBoostClassifier_best_score_with_feature_selection([800])"
   ]
  },
  {
   "cell_type": "markdown",
   "metadata": {
    "papermill": {
     "duration": 0.096876,
     "end_time": "2020-10-15T01:34:29.307628",
     "exception": false,
     "start_time": "2020-10-15T01:34:29.210752",
     "status": "completed"
    },
    "tags": []
   },
   "source": [
    "<h5>-Feature selection is the process of reducing the number of input variables when developing a predictive model. It is desirable to reduce the number of input variables to both reduce the computational cost of modeling and, in some cases, to improve the performance of the model.</h5>"
   ]
  },
  {
   "cell_type": "markdown",
   "metadata": {
    "papermill": {
     "duration": 0.09629,
     "end_time": "2020-10-15T01:34:29.502608",
     "exception": false,
     "start_time": "2020-10-15T01:34:29.406318",
     "status": "completed"
    },
    "tags": []
   },
   "source": [
    "<h1>I'll use an RandomForestClassifier as my final model because it gives good results .\n",
    "We can see how feature selection can improve our model </h1>"
   ]
  },
  {
   "cell_type": "code",
   "execution_count": 46,
   "metadata": {
    "execution": {
     "iopub.execute_input": "2020-10-15T01:34:29.715488Z",
     "iopub.status.busy": "2020-10-15T01:34:29.714685Z",
     "iopub.status.idle": "2020-10-15T01:34:31.473770Z",
     "shell.execute_reply": "2020-10-15T01:34:31.473139Z"
    },
    "papermill": {
     "duration": 1.869338,
     "end_time": "2020-10-15T01:34:31.473933",
     "exception": false,
     "start_time": "2020-10-15T01:34:29.604595",
     "status": "completed"
    },
    "tags": []
   },
   "outputs": [],
   "source": [
    "### Final Model :\n",
    "feature_selection = SelectKBest(f_classif , k = 5)\n",
    "adaboost_processor = make_pipeline(StandardScaler() , feature_selection )\n",
    "adaboost_model = make_pipeline(adaboost_processor , AdaBoostClassifier(n_estimators= 800,learning_rate=0.09))\n",
    "adaboost_model.fit(X , y)\n",
    "my_predictions = adaboost_model.predict(X)\n"
   ]
  },
  {
   "cell_type": "code",
   "execution_count": 47,
   "metadata": {
    "execution": {
     "iopub.execute_input": "2020-10-15T01:34:31.678258Z",
     "iopub.status.busy": "2020-10-15T01:34:31.677196Z",
     "iopub.status.idle": "2020-10-15T01:34:32.086049Z",
     "shell.execute_reply": "2020-10-15T01:34:32.085173Z"
    },
    "papermill": {
     "duration": 0.514918,
     "end_time": "2020-10-15T01:34:32.086201",
     "exception": false,
     "start_time": "2020-10-15T01:34:31.571283",
     "status": "completed"
    },
    "tags": []
   },
   "outputs": [],
   "source": [
    "submission = pd.read_csv('/kaggle/input/heart-failure-clinical-data/heart_failure_clinical_records_dataset.csv')\n",
    "submission['Predictions'] = my_predictions\n",
    "submission.to_csv(\"submission.csv\", index=False)"
   ]
  }
 ],
 "metadata": {
  "kernelspec": {
   "display_name": "Python 3",
   "language": "python",
   "name": "python3"
  },
  "language_info": {
   "codemirror_mode": {
    "name": "ipython",
    "version": 3
   },
   "file_extension": ".py",
   "mimetype": "text/x-python",
   "name": "python",
   "nbconvert_exporter": "python",
   "pygments_lexer": "ipython3",
   "version": "3.7.6"
  },
  "papermill": {
   "duration": 51.858653,
   "end_time": "2020-10-15T01:34:32.294491",
   "environment_variables": {},
   "exception": null,
   "input_path": "__notebook__.ipynb",
   "output_path": "__notebook__.ipynb",
   "parameters": {},
   "start_time": "2020-10-15T01:33:40.435838",
   "version": "2.1.0"
  }
 },
 "nbformat": 4,
 "nbformat_minor": 4
}
